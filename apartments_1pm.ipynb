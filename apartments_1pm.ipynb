{
 "cells": [
  {
   "cell_type": "markdown",
   "metadata": {},
   "source": [
    "# Apartment Impartment Ltd™\n",
    "*CS524 Intro to Optimization, 18 December 2021*\n",
    "\n",
    "Puqian Wang & Sonia Cromp\n",
    "\n",
    "# Introduction\n",
    "\n",
    "We are beginning a real-estate technology startup, Apartment Impartment Ltd (AIL)™, which will serve as a middleman between renters and real estate agencies. We decided to start this company in order to help face the issues encountered by student renters. Because many students live in the same small area around campus, move at the same time in August and have similar budgets and preferences (such as wanting a studio or 1-bedroom within walking distance to campus), many students become interested in the same few apartments and need to race to sign a lease before anybody else does. \n",
    "\n",
    "Our company will gather available apartments over the course of a week, then recommend an apartment to a prospective renter based on the renter’s preferences. No two renters will be offered the same apartment in the same week. Each renter is given a week to decide on signing a lease, eliminating the time pressure to decide and the disappointment of missing out on a nice apartment by just a few hours. Due to the competitive nature of the Madison rental market, each resident is only offered one apartment per week to guarantee that they alone have the choice to rent this apartment; this guarantee would be too restrictive for providing a renter with more than one apartment because real estate agencies are not interested in tying up several of their apartments at once with one prospective renter. However, the real estate companies (according to our focus group last month) are willing to tie up one apartment per resident in this process, because the prospective residents our company attracts are likely to be high-quality tenants who take the rental process seriously and want to treat their nice apartments with care.\n",
    "\n",
    "\n",
    "# Data\n",
    "\n",
    "On our website, a prospective resident will submit a Residence Request informing us of their apartment preferences. The prospective resident $x_j$ specifies their desired number of bedrooms $xbe_j$ and bathrooms $xba_j$, monthly rent amount $xp_j$, desired length of commute to the university $xct_j$ and commute transportation method $xcm_j$ (walking, bicycling or driving). The request also involves specifying the relative importance of each of these attributes for this prospective resident in the form of real-valued numbers between 0 and 1. Specifically, $pbe_j$, $pba_j$, $pp_j$ and $pc_j$ represent the importance of the number of bedrooms and bathrooms, the price and the commute time (using the specified commute method $xcm_j$), respectively, for the $j$-th prospective resident. For each apartment, the available data consist of the number of bedrooms and bathrooms, the rent amount, and the location (which is used to determine commute time to the university for each of the three available methods using the Google Distance Matrix API). \n",
    "\n",
    "Because our startup is still in its early stages, the apartment data rely on the Zillow.com API which gathered 63 condos from Madison, Verona, Fitchburg, Sun Prairie and Middleton. Condos easily simulate apartments by dividing the price by 1000 to simulate a monthly rent amount. The resident data is randomly generated to resemble preferences shared by students in our August 2021 focus group, and those reviewing our model are able to toggle the distributions of the resident data to envision model behavior in specific scenarios. These data are used with the proof-of-concept models in an effort to encourage local rental agencies to partner with Apartment Impartment Ltd™.\n"
   ]
  },
  {
   "cell_type": "code",
   "execution_count": 1,
   "metadata": {},
   "outputs": [],
   "source": [
    "import pandas as pd\n",
    "%load_ext gams_magic \n",
    "\n",
    "pd.options.display.max_columns = None\n",
    "pd.options.display.max_rows = None"
   ]
  },
  {
   "cell_type": "markdown",
   "metadata": {},
   "source": [
    "### Resident data\n",
    "This code block specifies the default settings for the distributions of the resident data. Editing these values also enables exploration of the model under other scenarios. Simply follow the instructions in the comments and unless noted otherwise, keep all numbers as nonnegative integers."
   ]
  },
  {
   "cell_type": "code",
   "execution_count": 2,
   "metadata": {},
   "outputs": [],
   "source": [
    "%%gams\n",
    "\n",
    "# number of residents\n",
    "# please enter a scalar between 1-100:\n",
    "scalar num_res /30/;\n",
    "\n",
    "# beds distribution\n",
    "# nbed = 0 if studio\n",
    "scalar nbeds_mean /2/;\n",
    "scalar nbeds_var/1/;\n",
    "\n",
    "# budget distrbution\n",
    "# note: budget is set to 500 if budget is less than 500\n",
    "scalar budget_mean /1200/;\n",
    "scalar budget_var /200/;\n",
    "\n",
    "# commute time distribution\n",
    "# com_t: normal(time_mean,time_var)\n",
    "# partitioned by a vector time_slot(t): _t1_t2_t3_t4_t5_\n",
    "# com_t is set to 1 if com_t<t1; set to 2 if between t1 and t2; etc.\n",
    "scalar time_mean /15/;\n",
    "scalar time_var /5/;\n",
    "\n",
    "set slot /t1*t5/;\n",
    "parameter time_slot(slot)\n",
    "/t1 5,\n",
    " t2 10,\n",
    " t3 15,\n",
    " t4 20,\n",
    " t5 25/;\n",
    "\n",
    "# ranking distribution: how important a resident might consider some arbitrary attribute\n",
    "# for each resident, the sum of these rankings is normalized to add to 1\n",
    "scalar rank_mean /0/;\n",
    "scalar rank_var /1/;\n"
   ]
  },
  {
   "cell_type": "markdown",
   "metadata": {},
   "source": [
    "The following code uses the above distribution to generate resident data:"
   ]
  },
  {
   "cell_type": "code",
   "execution_count": 3,
   "metadata": {},
   "outputs": [],
   "source": [
    "%%gams\n",
    "set r /1*100/;\n",
    "set cr(r);\n",
    "cr(r) = no;\n",
    "cr(r)$(ord(r)<=num_res) = yes;\n",
    "set labels /'nbed', 'nbath', 'budget', 'com_m', 'com_t'/;\n",
    "\n",
    "parameter big(r, labels);\n",
    "parameter res(r, labels);\n",
    "\n",
    "****************************************************\n",
    "parameter rank_1(r, labels), rank(r, labels);\n",
    "\n",
    "alias(labels, l);\n",
    "\n",
    "parameter normalize(r);\n",
    "\n",
    "loop(r,\n",
    "rank_1(r, labels)$(not sameas(labels, 'com_m')) = uniform(rank_mean,rank_var);\n",
    "normalize(r) = sum(labels, rank_1(r, labels));\n",
    ");\n",
    "rank(r, labels) = rank_1(r, labels)/normalize(r);\n",
    "\n",
    "****************************************************\n",
    "\n",
    "parameter beds;\n",
    "loop(r,\n",
    "    beds = normal(nbeds_mean,nbeds_var);\n",
    "    if(beds>0,\n",
    "        big(r, 'nbed') = ceil(beds);\n",
    "    else\n",
    "        big(r, 'nbed') = 0;\n",
    "    );\n",
    ");\n",
    "\n",
    "big(r, 'nbath') $ (big(r, 'nbed')>0)= floor(uniform(1, big(r, 'nbed')));\n",
    "big(r, 'nbath') $ (big(r, 'nbed')=0) = 1;\n",
    "\n",
    "parameter budgets;\n",
    "loop(r,\n",
    "    budgets = normal(budget_mean,budget_var);\n",
    "    big(r, 'budget') = budgets $ (budgets>=500) + 500 $ (budgets<500);\n",
    ");\n",
    "\n",
    "big(r, 'com_m')  = floor(uniform(1,4));\n",
    "big(r, 'com_m')  $ (big(r, 'com_m')=4) = 3\n",
    "\n",
    "\n",
    "\n",
    "parameters com_time_prim, com_time;\n",
    "loop(r,\n",
    "com_time_prim = floor(normal(time_mean, time_var));\n",
    "com_time $ (com_time_prim<time_slot('t1')) = 1;\n",
    "com_time $ (com_time_prim>=time_slot('t1') and com_time_prim<time_slot('t2')) = 2;\n",
    "com_time $ (com_time_prim>=time_slot('t2') and com_time_prim<time_slot('t3')) = 3;\n",
    "com_time $ (com_time_prim>=time_slot('t3') and com_time_prim<time_slot('t4')) = 4;\n",
    "com_time $ (com_time_prim>=time_slot('t5') and com_time_prim<time_slot('t5')) = 5;\n",
    "com_time $ (com_time_prim>=time_slot('t5')) = 6;\n",
    "big(r, 'com_t') = com_time;\n",
    ");\n",
    "\n",
    "res(cr, labels) = big(cr, labels);\n",
    "display big, rank, normalize;\n"
   ]
  },
  {
   "cell_type": "code",
   "execution_count": 5,
   "metadata": {},
   "outputs": [],
   "source": [
    "%gams_pull -d res\n",
    "%gams_pull -d big\n",
    "%gams_pull -d rank"
   ]
  },
  {
   "cell_type": "code",
   "execution_count": 6,
   "metadata": {},
   "outputs": [
    {
     "name": "stdout",
     "output_type": "stream",
     "text": [
      "(150, 3) (499, 3) (400, 3)\n"
     ]
    },
    {
     "data": {
      "text/html": [
       "<div>\n",
       "<style scoped>\n",
       "    .dataframe tbody tr th:only-of-type {\n",
       "        vertical-align: middle;\n",
       "    }\n",
       "\n",
       "    .dataframe tbody tr th {\n",
       "        vertical-align: top;\n",
       "    }\n",
       "\n",
       "    .dataframe thead th {\n",
       "        text-align: right;\n",
       "    }\n",
       "</style>\n",
       "<table border=\"1\" class=\"dataframe\">\n",
       "  <thead>\n",
       "    <tr style=\"text-align: right;\">\n",
       "      <th></th>\n",
       "      <th>r</th>\n",
       "      <th>labels</th>\n",
       "      <th>value</th>\n",
       "    </tr>\n",
       "  </thead>\n",
       "  <tbody>\n",
       "    <tr>\n",
       "      <th>0</th>\n",
       "      <td>1</td>\n",
       "      <td>nbed</td>\n",
       "      <td>3.0</td>\n",
       "    </tr>\n",
       "    <tr>\n",
       "      <th>1</th>\n",
       "      <td>1</td>\n",
       "      <td>nbath</td>\n",
       "      <td>2.0</td>\n",
       "    </tr>\n",
       "    <tr>\n",
       "      <th>2</th>\n",
       "      <td>1</td>\n",
       "      <td>budget</td>\n",
       "      <td>1463.436074</td>\n",
       "    </tr>\n",
       "    <tr>\n",
       "      <th>3</th>\n",
       "      <td>1</td>\n",
       "      <td>com_m</td>\n",
       "      <td>3.0</td>\n",
       "    </tr>\n",
       "    <tr>\n",
       "      <th>4</th>\n",
       "      <td>1</td>\n",
       "      <td>com_t</td>\n",
       "      <td>2.0</td>\n",
       "    </tr>\n",
       "  </tbody>\n",
       "</table>\n",
       "</div>"
      ],
      "text/plain": [
       "   r  labels        value\n",
       "0  1    nbed          3.0\n",
       "1  1   nbath          2.0\n",
       "2  1  budget  1463.436074\n",
       "3  1   com_m          3.0\n",
       "4  1   com_t          2.0"
      ]
     },
     "execution_count": 6,
     "metadata": {},
     "output_type": "execute_result"
    }
   ],
   "source": [
    "# sample of the generated resident preferences\n",
    "print(res.shape, big.shape, rank.shape)\n",
    "res.head()"
   ]
  },
  {
   "cell_type": "code",
   "execution_count": 7,
   "metadata": {},
   "outputs": [
    {
     "data": {
      "text/html": [
       "<div>\n",
       "<style scoped>\n",
       "    .dataframe tbody tr th:only-of-type {\n",
       "        vertical-align: middle;\n",
       "    }\n",
       "\n",
       "    .dataframe tbody tr th {\n",
       "        vertical-align: top;\n",
       "    }\n",
       "\n",
       "    .dataframe thead th {\n",
       "        text-align: right;\n",
       "    }\n",
       "</style>\n",
       "<table border=\"1\" class=\"dataframe\">\n",
       "  <thead>\n",
       "    <tr style=\"text-align: right;\">\n",
       "      <th></th>\n",
       "      <th>r</th>\n",
       "      <th>labels</th>\n",
       "      <th>value</th>\n",
       "    </tr>\n",
       "  </thead>\n",
       "  <tbody>\n",
       "    <tr>\n",
       "      <th>0</th>\n",
       "      <td>1</td>\n",
       "      <td>nbed</td>\n",
       "      <td>0.092014</td>\n",
       "    </tr>\n",
       "    <tr>\n",
       "      <th>1</th>\n",
       "      <td>1</td>\n",
       "      <td>nbath</td>\n",
       "      <td>0.451784</td>\n",
       "    </tr>\n",
       "    <tr>\n",
       "      <th>2</th>\n",
       "      <td>1</td>\n",
       "      <td>budget</td>\n",
       "      <td>0.294866</td>\n",
       "    </tr>\n",
       "    <tr>\n",
       "      <th>3</th>\n",
       "      <td>1</td>\n",
       "      <td>com_t</td>\n",
       "      <td>0.161336</td>\n",
       "    </tr>\n",
       "    <tr>\n",
       "      <th>4</th>\n",
       "      <td>2</td>\n",
       "      <td>nbed</td>\n",
       "      <td>0.169657</td>\n",
       "    </tr>\n",
       "  </tbody>\n",
       "</table>\n",
       "</div>"
      ],
      "text/plain": [
       "   r  labels     value\n",
       "0  1    nbed  0.092014\n",
       "1  1   nbath  0.451784\n",
       "2  1  budget  0.294866\n",
       "3  1   com_t  0.161336\n",
       "4  2    nbed  0.169657"
      ]
     },
     "execution_count": 7,
     "metadata": {},
     "output_type": "execute_result"
    }
   ],
   "source": [
    "# sample of the generated resident importance rankings\n",
    "rank.head()"
   ]
  },
  {
   "cell_type": "markdown",
   "metadata": {},
   "source": [
    "### Apartments data\n",
    "Because gathering real apartments required some API calls where a credit card is required to sign up and will be charged upon exceeding the quota, this code is commented out and will not work without an API key. However, it is included so as to show how all the data was gathered.\n",
    "\n",
    "First, gather the apartments themselves"
   ]
  },
  {
   "cell_type": "code",
   "execution_count": 8,
   "metadata": {},
   "outputs": [],
   "source": [
    "# import requests\n",
    "# url = \"https://zillow-com1.p.rapidapi.com/propertyExtendedSearch\"\n",
    "# headers = {\n",
    "#     'x-rapidapi-host': \"zillow-com1.p.rapidapi.com\",\n",
    "#     'x-rapidapi-key': \"\" # enter your api key here\n",
    "#     }\n",
    "\n",
    "# text = []\n",
    "# for place in ['fitchburg', 'madison', 'middleton', 'sun prarie', 'verona']:\n",
    "#     querystring = {\"location\":f\"{place}, wi\",\"home_type\":\"Condos,Apartments\"}\n",
    "#     response = requests.request(\"GET\", url, headers=headers, params=querystring) # comes back in odd format that isn't quite JSON\n",
    "#     text.append(response.text)"
   ]
  },
  {
   "cell_type": "markdown",
   "metadata": {},
   "source": [
    "Second, determine the travel/commute time from each apartment to the CS building by walking, biking and driving"
   ]
  },
  {
   "cell_type": "code",
   "execution_count": 9,
   "metadata": {},
   "outputs": [],
   "source": [
    "# import json\n",
    "# import os\n",
    "# import re\n",
    "\n",
    "# allapts = []\n",
    "# dest = '1210 W Dayton St Madison WI 53706'\n",
    "# api_key = '' # enter your api key here\n",
    "# url ='https://maps.googleapis.com/maps/api/distancematrix/json?'\n",
    "\n",
    "# def gettime(source, dest, key, method='driving'):\n",
    "#     source = re.sub('#', 'unit ', source)\n",
    "#     # return response object\n",
    "#     r = requests.get(url + 'origins=' + source +\n",
    "#                     '&destinations=' + dest +\n",
    "#                     '&mode=' + method +\n",
    "#                     '&key=' + api_key)\n",
    "#     # json method of response object\n",
    "#     # return json format result\n",
    "#     return r.json()"
   ]
  },
  {
   "cell_type": "code",
   "execution_count": 10,
   "metadata": {},
   "outputs": [],
   "source": [
    "# for s in text:\n",
    "#     # Convert from \"almost\" JSON to an actual JSON format\n",
    "#     s = re.sub(f'\\[?\\d+ items', '', s)\n",
    "#     s = re.sub(f'(?<=[L\\\"\\de])\\n(?!}})', ',\\n', s)\n",
    "#     s = re.sub(f'NULL', '-1', s)\n",
    "#     s = re.sub(f'(\\d+):', '\\\"\\g<1>\\\":', s)\n",
    "#     s = re.sub(f\"\\\"props\\\":\\n\", '', s)\n",
    "#     s = re.sub('}', '},', s)\n",
    "#     s= re.sub(f'\\n]\\n', f'\\n', s)\n",
    "#     s = s.strip()[:-1] #since an extra comma is at the end\n",
    "\n",
    "#     contents = json.loads(s)\n",
    "#     contents.pop('resultsPerPage')\n",
    "#     contents.pop('totalResultCount')\n",
    "#     contents.pop('totalPages')\n",
    "\n",
    "#     df = pd.DataFrame(contents).T\n",
    "#     df.drop(['listingDateTime', 'listingStatus', 'zpid', 'lotAreaUnit', 'daysOnZillow', 'country', 'currency'], axis=1, inplace=True)\n",
    "\n",
    "#     source = df['address'].to_list()\n",
    "\n",
    "#     for m in ['driving', 'walking', 'bicycling']:\n",
    "#         results = []\n",
    "#         for i in range(len(source)//25): # API only can process 25 apartments at a time\n",
    "#             subsource = source[25*i : 25*(i+1)]\n",
    "#             print(len(subsource))\n",
    "#             subsourcestr = '|'.join(subsource)\n",
    "#             r = gettime(subsourcestr, dest, api_key, m)\n",
    "#             results.append(r)\n",
    "\n",
    "#         subsource = source[25*(len(source)//25) : ]\n",
    "#         print(len(subsource))\n",
    "#         subsourcestr = '|'.join(subsource)\n",
    "#         r = gettime(subsourcestr, dest, api_key, m)\n",
    "#         results.append(r)\n",
    "\n",
    "#         seconds = []\n",
    "#         for r in results:\n",
    "#             for e in r['rows']:\n",
    "#                 seconds.append(e['elements'][0]['duration']['value'])\n",
    "#         df[m] = seconds\n",
    "#         df[m] = (df[m]/60).astype(int)\n",
    "\n",
    "#     df['price'] = df['price']/100\n",
    "#     allapts.append(df)\n",
    "\n",
    "# df = pd.concat(allapts)\n",
    "\n",
    "# df.columns = ['nbath', 'propertyType', 'lotAreaValue', 'address', 'imgSrc', 'budget', 'longitude', 'latitude',\n",
    "#                     'nbed', 'livingArea', 'hasImage', 'car', 'walk', 'bike']\n",
    "# df.head()\n",
    "# df.to_csv('apartments.csv', index=False) # save info"
   ]
  },
  {
   "cell_type": "code",
   "execution_count": 11,
   "metadata": {},
   "outputs": [
    {
     "data": {
      "text/html": [
       "<div>\n",
       "<style scoped>\n",
       "    .dataframe tbody tr th:only-of-type {\n",
       "        vertical-align: middle;\n",
       "    }\n",
       "\n",
       "    .dataframe tbody tr th {\n",
       "        vertical-align: top;\n",
       "    }\n",
       "\n",
       "    .dataframe thead th {\n",
       "        text-align: right;\n",
       "    }\n",
       "</style>\n",
       "<table border=\"1\" class=\"dataframe\">\n",
       "  <thead>\n",
       "    <tr style=\"text-align: right;\">\n",
       "      <th></th>\n",
       "      <th>nbed</th>\n",
       "      <th>nbath</th>\n",
       "      <th>budget</th>\n",
       "      <th>m1</th>\n",
       "      <th>m2</th>\n",
       "      <th>m3</th>\n",
       "    </tr>\n",
       "    <tr>\n",
       "      <th>a</th>\n",
       "      <th></th>\n",
       "      <th></th>\n",
       "      <th></th>\n",
       "      <th></th>\n",
       "      <th></th>\n",
       "      <th></th>\n",
       "    </tr>\n",
       "  </thead>\n",
       "  <tbody>\n",
       "    <tr>\n",
       "      <th>1</th>\n",
       "      <td>2</td>\n",
       "      <td>2</td>\n",
       "      <td>1700</td>\n",
       "      <td>27</td>\n",
       "      <td>276</td>\n",
       "      <td>78</td>\n",
       "    </tr>\n",
       "    <tr>\n",
       "      <th>2</th>\n",
       "      <td>2</td>\n",
       "      <td>2</td>\n",
       "      <td>1980</td>\n",
       "      <td>29</td>\n",
       "      <td>301</td>\n",
       "      <td>83</td>\n",
       "    </tr>\n",
       "    <tr>\n",
       "      <th>3</th>\n",
       "      <td>2</td>\n",
       "      <td>2</td>\n",
       "      <td>1960</td>\n",
       "      <td>29</td>\n",
       "      <td>301</td>\n",
       "      <td>83</td>\n",
       "    </tr>\n",
       "    <tr>\n",
       "      <th>4</th>\n",
       "      <td>2</td>\n",
       "      <td>2</td>\n",
       "      <td>2100</td>\n",
       "      <td>27</td>\n",
       "      <td>299</td>\n",
       "      <td>88</td>\n",
       "    </tr>\n",
       "    <tr>\n",
       "      <th>5</th>\n",
       "      <td>1</td>\n",
       "      <td>1</td>\n",
       "      <td>1850</td>\n",
       "      <td>28</td>\n",
       "      <td>299</td>\n",
       "      <td>88</td>\n",
       "    </tr>\n",
       "  </tbody>\n",
       "</table>\n",
       "</div>"
      ],
      "text/plain": [
       "   nbed  nbath  budget  m1   m2  m3\n",
       "a                                  \n",
       "1     2      2    1700  27  276  78\n",
       "2     2      2    1980  29  301  83\n",
       "3     2      2    1960  29  301  83\n",
       "4     2      2    2100  27  299  88\n",
       "5     1      1    1850  28  299  88"
      ]
     },
     "execution_count": 11,
     "metadata": {},
     "output_type": "execute_result"
    }
   ],
   "source": [
    "apartments = pd.read_csv('apartments.csv')\n",
    "apt_data = apartments.drop(['propertyType', 'lotAreaValue', 'address', 'imgSrc', 'longitude', 'latitude',\n",
    "                'livingArea', 'hasImage'], axis=1)\n",
    "apt_data['a'] = apt_data.index+1\n",
    "apt_data = apt_data[['a', 'nbed', 'nbath', 'budget', 'car', 'walk', 'bike']]\n",
    "apt_data.columns = ['a', 'nbed', 'nbath', 'budget', 'm1', 'm2', 'm3']\n",
    "# apt_data.drop(['m1', 'm2', 'm3'], axis=1, inplace=True)\n",
    "apt_data['budget'] = apt_data['budget'].astype(int)\n",
    "apt_data.set_index('a', inplace=True)\n",
    "apt_data.head()"
   ]
  },
  {
   "cell_type": "code",
   "execution_count": 12,
   "metadata": {},
   "outputs": [],
   "source": [
    "apt_data.to_csv('apartments_formatted.csv', index=False)"
   ]
  },
  {
   "cell_type": "markdown",
   "metadata": {},
   "source": [
    "# Primary model\n",
    "model and data description\n",
    "\n",
    "residence data:\n",
    "1. desired nbed, nbath, budget, com_m, com_t\n",
    "2. nbed = 0 if the resident requires a studio\n",
    "\n",
    "details:\n",
    "1. com_t is an integer between 1-5, where 1-> t<5, 2-> 5<=t<10, ... 5-> t>25;\n",
    "2. com_m is an integer between 1-3, where 1-> drive, 2-> walk, 3-> bike;\n",
    "3. budget generated by normal distribution, mean=1200, delta=200;\n",
    "4. extracted from gdx files: small_data, medium_data, large_data;\n",
    "5. headr: /'nbed', 'nbath', 'budget', 'com_m', 'com_t'/\n",
    "6. data: data(small/medium/large, headr);\n",
    "7. small=30, medium=60, large=100;\n",
    "8. need to figure out ranking -- currently a rand number form uniform(0,1) assigned to each label;\n",
    "\n",
    "apartments data:\n",
    "1. should have the same headr;\n",
    "2. about commute methods: m1 for driving, m2 for walking, m3 for biking."
   ]
  },
  {
   "cell_type": "code",
   "execution_count": 13,
   "metadata": {},
   "outputs": [],
   "source": [
    "%%gams\n",
    "set headr(*);\n",
    "set a /a1*a63/;\n",
    "\n",
    "parameter pairs;\n",
    "pairs = min(card(cr), card(a));\n",
    "\n",
    "$call csv2gdx apartments_formatted.csv id=Data autoRow=a values=1..lastCol useHeader=y;\n",
    "\n",
    "* set apt_headr(*);\n",
    "parameter apt_data(a, headr);\n",
    "\n",
    "\n",
    "$gdxin apartments_formatted.gdx\n",
    "$load headr=Dim2\n",
    "$load apt_data=Data\n",
    "$gdxin\n",
    "display apt_data;\n"
   ]
  },
  {
   "cell_type": "code",
   "execution_count": 14,
   "metadata": {},
   "outputs": [
    {
     "data": {
      "text/html": [
       "<div>\n",
       "<style scoped>\n",
       "    .dataframe tbody tr th:only-of-type {\n",
       "        vertical-align: middle;\n",
       "    }\n",
       "\n",
       "    .dataframe tbody tr th {\n",
       "        vertical-align: top;\n",
       "    }\n",
       "\n",
       "    .dataframe thead th {\n",
       "        text-align: right;\n",
       "    }\n",
       "</style>\n",
       "<table border=\"1\" class=\"dataframe\">\n",
       "  <thead>\n",
       "    <tr style=\"text-align: right;\">\n",
       "      <th></th>\n",
       "      <th>Solver Status</th>\n",
       "      <th>Model Status</th>\n",
       "      <th>Objective</th>\n",
       "      <th>#equ</th>\n",
       "      <th>#var</th>\n",
       "      <th>Model Type</th>\n",
       "      <th>Solver</th>\n",
       "      <th>Solver Time</th>\n",
       "    </tr>\n",
       "  </thead>\n",
       "  <tbody>\n",
       "    <tr>\n",
       "      <th>0</th>\n",
       "      <td>Normal (1)</td>\n",
       "      <td>Optimal Global (1)</td>\n",
       "      <td>0.6966</td>\n",
       "      <td>125</td>\n",
       "      <td>1921</td>\n",
       "      <td>MIP</td>\n",
       "      <td>CPLEX</td>\n",
       "      <td>0.106</td>\n",
       "    </tr>\n",
       "  </tbody>\n",
       "</table>\n",
       "</div>"
      ],
      "text/plain": [
       "  Solver Status        Model Status  Objective #equ  #var Model Type Solver  \\\n",
       "0    Normal (1)  Optimal Global (1)     0.6966  125  1921        MIP  CPLEX   \n",
       "\n",
       "  Solver Time  \n",
       "0       0.106  "
      ]
     },
     "execution_count": 14,
     "metadata": {},
     "output_type": "execute_result"
    }
   ],
   "source": [
    "%%gams\n",
    "\n",
    "**********************************************************\n",
    "$onText\n",
    "notes on the normalization of budgets/prices:\n",
    "\n",
    "* for residents, since we know the budget is generated from norm(1200,200), we simply scale it by 600, hence the mean would be 2;\n",
    "* for apartment prices, we scale it by 600 too.\n",
    "\n",
    "$offtext\n",
    "scalar budget_mean \"the mean value of the budget, get it from residents_data\" /1200/;\n",
    "* normalize the budget with mean value 2\n",
    "res(r, 'budget') = 2*res(r, 'budget')/budget_mean;\n",
    "\n",
    "parameter aptprice(a);\n",
    "apt_data(a,'budget') = 2*apt_data(a,'budget')/budget_mean;\n",
    "\n",
    "# display apt_data;\n",
    "***********************************************************\n",
    "\n",
    "display res, rank;\n",
    "\n",
    "set m \"m1:drive, m2:walk, m3: drive\" /m1*m3/;\n",
    "\n",
    "parameter apt_com_t(a, m);\n",
    "\n",
    "$gdxin apartments_formatted.gdx\n",
    "$load apt_com_t=Data\n",
    "$gdxin\n",
    "\n",
    "display apt_data,apt_com_t;\n",
    "\n",
    "********************** Format data **********************\n",
    "\n",
    "set r_method(r,m) \"include a (resident i, commute method j) pair in a set only if j is the preferred commute method of i\";\n",
    "r_method(r,m) = no;\n",
    "r_method(r,m) $ (ord(m)=res(r,'com_m')) = yes;\n",
    "\n",
    "parameter apt_com_t_nm(a,m) \"binned commute time - put each commute time into 5-minute interval bins\";\n",
    "\n",
    "set slot /t1*t5/;\n",
    "parameter time_slot(slot)\n",
    "/t1 5,\n",
    " t2 10,\n",
    " t3 15,\n",
    " t4 20,\n",
    " t5 25/;\n",
    "\n",
    "apt_com_t_nm(a,m) $ (apt_com_t(a, m)<time_slot('t1')) = 1;\n",
    "apt_com_t_nm(a,m) $ (apt_com_t(a, m)>=time_slot('t1') and apt_com_t(a, m)<time_slot('t2')) = 2;\n",
    "apt_com_t_nm(a,m) $ (apt_com_t(a, m)>=time_slot('t2') and apt_com_t(a, m)<time_slot('t3')) = 3;\n",
    "apt_com_t_nm(a,m) $ (apt_com_t(a, m)>=time_slot('t3') and apt_com_t(a, m)<time_slot('t4')) = 4;\n",
    "apt_com_t_nm(a,m) $ (apt_com_t(a, m)>=time_slot('t4') and apt_com_t(a, m)<time_slot('t5')) = 5;\n",
    "apt_com_t_nm(a,m) $ (apt_com_t(a, m)>time_slot('t5')) = 6;\n",
    "\n",
    "parameter\n",
    "abs_diff(r,a,headr) \"absolute difference between apartment a and and resident r\",\n",
    "abs_diff_cmt(r,a) \"absolute difference of commute time between apartment a and resident r\";\n",
    "\n",
    "abs_diff(r,a,'nbed') = abs(apt_data(a, 'nbed')-res(r, 'nbed'));\n",
    "abs_diff(r,a,'nbath') = abs(apt_data(a, 'nbath')-res(r, 'nbath'));\n",
    "abs_diff(r,a,'budget') = abs(apt_data(a, 'budget')-res(r, 'budget'));\n",
    "# abs_diff(r,a,'com_m') = res(r, 'com_m');\n",
    "# abs_diff(r,a,'com_t') = res(r, 'com_t');\n",
    "abs_diff_cmt(r,a) = abs(sum(m $ r_method(r,m), apt_com_t_nm(a,m)) -res(r,'com_t'));\n",
    "\n",
    "display apt_data, abs_diff, abs_diff_cmt;\n",
    "\n",
    "********************** Model **********************\n",
    "\n",
    "free variable dis \"dissatisfication\";\n",
    "\n",
    "variable rdis(r);\n",
    "\n",
    "positive variables z(r,a,headr), zm(r,a);\n",
    "\n",
    "Binary Variable\n",
    "        b(r,a) \"b(r,a)=1 if assign resident r to apartment i\"\n",
    "        d(r,m) \"d(r, m)=1 if resident r choose method m\";\n",
    "\n",
    "equations\n",
    "        obj, calcdis(r),\n",
    "        bound_1(r) \"each apartment gets at most one resident\", \n",
    "        bound_2(a) \"each resident gets at most one apartment\", \n",
    "        bound_3 \"count the number of residents assigned apartments\";\n",
    "\n",
    "obj..\n",
    "dis =e= 1/num_res * sum(r$(ord(r)<=num_res), rdis(r));\n",
    "\n",
    "calcdis(r)$(ord(r)<=num_res)..\n",
    "rdis(r) =e= sum(a, b(r,a) * (rank(r, 'nbed')*abs_diff(r,a,'nbed') + rank(r, 'nbath')*abs_diff(r,a,'nbath') + rank(r, 'budget')*abs_diff(r,a,'budget')))\n",
    "        + sum(a, b(r,a) * rank(r,'com_t') * abs_diff_cmt(r,a));\n",
    "* second line is dissatisfaction with commute, first line is dissatisfaction with everything else\n",
    "\n",
    "bound_1(r)$(ord(r)<=num_res)..\n",
    "sum(a, b(r,a)) =l= 1;\n",
    "\n",
    "bound_2(a)..\n",
    "sum(r$(ord(r)<=num_res), b(r,a)) =l= 1;\n",
    "\n",
    "bound_3..\n",
    "sum((r,a)$(ord(r)<=num_res), b(r,a)) =e= pairs;\n",
    "\n",
    "model primary_model /obj+calcdis+bound_1+bound_2+bound_3/;\n",
    "solve primary_model using mip minimizing dis;\n",
    "parameter bl(r, a);\n",
    "bl(r,a) = b.l(r,a);\n",
    "parameter number;\n",
    "number = num_res;"
   ]
  },
  {
   "cell_type": "markdown",
   "metadata": {},
   "source": [
    "The reccomended assignment between residents and apartments, and the number of assigned (resident, apartment) pairs:"
   ]
  },
  {
   "cell_type": "code",
   "execution_count": 15,
   "metadata": {},
   "outputs": [
    {
     "name": "stdout",
     "output_type": "stream",
     "text": [
      "     r    a value\n",
      "0    1  a59   1.0\n",
      "1    2  a37   1.0\n",
      "2    3  a45   1.0\n",
      "3    4  a39   1.0\n",
      "4    5  a35   1.0\n",
      "5    6  a63   1.0\n",
      "6    7  a43   1.0\n",
      "7    8  a60   1.0\n",
      "8    9  a23   1.0\n",
      "9   10   a1   1.0\n",
      "10  11  a18   1.0\n",
      "11  12  a24   1.0\n",
      "12  13  a51   1.0\n",
      "13  14  a21   1.0\n",
      "14  15  a34   1.0\n",
      "15  16  a52   1.0\n",
      "16  17  a36   1.0\n",
      "17  18  a26   1.0\n",
      "18  19  a41   1.0\n",
      "19  20  a50   1.0\n",
      "20  21  a31   1.0\n",
      "21  22   a8   1.0\n",
      "22  23  a61   1.0\n",
      "23  24  a29   1.0\n",
      "24  25  a20   1.0\n",
      "25  26  a54   1.0\n",
      "26  27  a19   1.0\n",
      "27  28  a38   1.0\n",
      "28  29  a17   1.0\n",
      "29  30  a30   1.0\n",
      "  value\n",
      "0  30.0\n"
     ]
    }
   ],
   "source": [
    "%gams_pull -d bl\n",
    "%gams_pull -d number\n",
    "print(bl)\n",
    "print(number)"
   ]
  },
  {
   "cell_type": "markdown",
   "metadata": {},
   "source": [
    "Visualize, discuss"
   ]
  },
  {
   "cell_type": "code",
   "execution_count": 16,
   "metadata": {},
   "outputs": [
    {
     "name": "stdout",
     "output_type": "stream",
     "text": [
      "Requirement already satisfied: geopandas in /Users/snc/opt/anaconda3/lib/python3.8/site-packages (0.10.2)\n",
      "Requirement already satisfied: pandas>=0.25.0 in /Users/snc/opt/anaconda3/lib/python3.8/site-packages (from geopandas) (1.2.1)\n",
      "Requirement already satisfied: pyproj>=2.2.0 in /Users/snc/opt/anaconda3/lib/python3.8/site-packages (from geopandas) (3.2.1)\n",
      "Requirement already satisfied: shapely>=1.6 in /Users/snc/opt/anaconda3/lib/python3.8/site-packages (from geopandas) (1.8.0)\n",
      "Requirement already satisfied: fiona>=1.8 in /Users/snc/opt/anaconda3/lib/python3.8/site-packages (from geopandas) (1.8.20)\n",
      "Requirement already satisfied: six>=1.7 in /Users/snc/opt/anaconda3/lib/python3.8/site-packages (from fiona>=1.8->geopandas) (1.15.0)\n",
      "Requirement already satisfied: cligj>=0.5 in /Users/snc/opt/anaconda3/lib/python3.8/site-packages (from fiona>=1.8->geopandas) (0.7.2)\n",
      "Requirement already satisfied: munch in /Users/snc/opt/anaconda3/lib/python3.8/site-packages (from fiona>=1.8->geopandas) (2.5.0)\n",
      "Requirement already satisfied: click-plugins>=1.0 in /Users/snc/opt/anaconda3/lib/python3.8/site-packages (from fiona>=1.8->geopandas) (1.1.1)\n",
      "Requirement already satisfied: setuptools in /Users/snc/opt/anaconda3/lib/python3.8/site-packages (from fiona>=1.8->geopandas) (51.3.3.post20210118)\n",
      "Requirement already satisfied: click>=4.0 in /Users/snc/opt/anaconda3/lib/python3.8/site-packages (from fiona>=1.8->geopandas) (7.1.2)\n",
      "Requirement already satisfied: attrs>=17 in /Users/snc/opt/anaconda3/lib/python3.8/site-packages (from fiona>=1.8->geopandas) (20.3.0)\n",
      "Requirement already satisfied: certifi in /Users/snc/opt/anaconda3/lib/python3.8/site-packages (from fiona>=1.8->geopandas) (2020.12.5)\n",
      "Requirement already satisfied: python-dateutil>=2.7.3 in /Users/snc/opt/anaconda3/lib/python3.8/site-packages (from pandas>=0.25.0->geopandas) (2.8.1)\n",
      "Requirement already satisfied: pytz>=2017.3 in /Users/snc/opt/anaconda3/lib/python3.8/site-packages (from pandas>=0.25.0->geopandas) (2020.5)\n",
      "Requirement already satisfied: numpy>=1.16.5 in /Users/snc/opt/anaconda3/lib/python3.8/site-packages (from pandas>=0.25.0->geopandas) (1.19.2)\n"
     ]
    }
   ],
   "source": [
    "import matplotlib.pyplot as plt\n",
    "!pip install geopandas\n",
    "import geopandas as gpd\n",
    "from shapely.geometry import Point"
   ]
  },
  {
   "cell_type": "code",
   "execution_count": 17,
   "metadata": {},
   "outputs": [
    {
     "data": {
      "text/plain": [
       "[<shapely.geometry.point.Point at 0x7fd65258bdc0>,\n",
       " <shapely.geometry.point.Point at 0x7fd6521f0340>,\n",
       " <shapely.geometry.point.Point at 0x7fd6521f0b80>]"
      ]
     },
     "execution_count": 17,
     "metadata": {},
     "output_type": "execute_result"
    }
   ],
   "source": [
    "geo = [Point(xy) for xy in zip(apartments['longitude'], apartments['latitude'])]\n",
    "geo[:3]"
   ]
  },
  {
   "cell_type": "code",
   "execution_count": 18,
   "metadata": {},
   "outputs": [
    {
     "data": {
      "text/html": [
       "<div>\n",
       "<style scoped>\n",
       "    .dataframe tbody tr th:only-of-type {\n",
       "        vertical-align: middle;\n",
       "    }\n",
       "\n",
       "    .dataframe tbody tr th {\n",
       "        vertical-align: top;\n",
       "    }\n",
       "\n",
       "    .dataframe thead th {\n",
       "        text-align: right;\n",
       "    }\n",
       "</style>\n",
       "<table border=\"1\" class=\"dataframe\">\n",
       "  <thead>\n",
       "    <tr style=\"text-align: right;\">\n",
       "      <th></th>\n",
       "      <th>0</th>\n",
       "      <th>geometry</th>\n",
       "    </tr>\n",
       "  </thead>\n",
       "  <tbody>\n",
       "    <tr>\n",
       "      <th>0</th>\n",
       "      <td>CS Building</td>\n",
       "      <td>POINT (-89.40657 43.07125)</td>\n",
       "    </tr>\n",
       "  </tbody>\n",
       "</table>\n",
       "</div>"
      ],
      "text/plain": [
       "             0                    geometry\n",
       "0  CS Building  POINT (-89.40657 43.07125)"
      ]
     },
     "execution_count": 18,
     "metadata": {},
     "output_type": "execute_result"
    }
   ],
   "source": [
    "cs = gpd.GeoDataFrame(['CS Building'], geometry=[Point((-89.40656814970647, 43.0712547367913))]) # location of CS bldng from Google Maps\n",
    "cs"
   ]
  },
  {
   "cell_type": "code",
   "execution_count": 19,
   "metadata": {},
   "outputs": [
    {
     "data": {
      "text/html": [
       "<div>\n",
       "<style scoped>\n",
       "    .dataframe tbody tr th:only-of-type {\n",
       "        vertical-align: middle;\n",
       "    }\n",
       "\n",
       "    .dataframe tbody tr th {\n",
       "        vertical-align: top;\n",
       "    }\n",
       "\n",
       "    .dataframe thead th {\n",
       "        text-align: right;\n",
       "    }\n",
       "</style>\n",
       "<table border=\"1\" class=\"dataframe\">\n",
       "  <thead>\n",
       "    <tr style=\"text-align: right;\">\n",
       "      <th></th>\n",
       "      <th>nbath</th>\n",
       "      <th>propertyType</th>\n",
       "      <th>lotAreaValue</th>\n",
       "      <th>address</th>\n",
       "      <th>imgSrc</th>\n",
       "      <th>budget</th>\n",
       "      <th>longitude</th>\n",
       "      <th>latitude</th>\n",
       "      <th>nbed</th>\n",
       "      <th>livingArea</th>\n",
       "      <th>hasImage</th>\n",
       "      <th>car</th>\n",
       "      <th>walk</th>\n",
       "      <th>bike</th>\n",
       "      <th>geometry</th>\n",
       "    </tr>\n",
       "  </thead>\n",
       "  <tbody>\n",
       "    <tr>\n",
       "      <th>0</th>\n",
       "      <td>2</td>\n",
       "      <td>CONDO</td>\n",
       "      <td>-1.0</td>\n",
       "      <td>257 Talon Pl, Sun Prairie, WI 53590</td>\n",
       "      <td>https://photos.zillowstatic.com/fp/68472cee03d...</td>\n",
       "      <td>1700.0</td>\n",
       "      <td>-89.224850</td>\n",
       "      <td>43.179280</td>\n",
       "      <td>2</td>\n",
       "      <td>1414</td>\n",
       "      <td>True</td>\n",
       "      <td>27</td>\n",
       "      <td>276</td>\n",
       "      <td>78</td>\n",
       "      <td>POINT (-89.22485 43.17928)</td>\n",
       "    </tr>\n",
       "    <tr>\n",
       "      <th>1</th>\n",
       "      <td>2</td>\n",
       "      <td>CONDO</td>\n",
       "      <td>-1.0</td>\n",
       "      <td>252 S Musket Ridge Dr APT 1, Sun Prairie, WI 5...</td>\n",
       "      <td>https://photos.zillowstatic.com/fp/7fcf99be6a1...</td>\n",
       "      <td>1980.0</td>\n",
       "      <td>-89.198040</td>\n",
       "      <td>43.180622</td>\n",
       "      <td>2</td>\n",
       "      <td>1196</td>\n",
       "      <td>True</td>\n",
       "      <td>29</td>\n",
       "      <td>301</td>\n",
       "      <td>83</td>\n",
       "      <td>POINT (-89.19804 43.18062)</td>\n",
       "    </tr>\n",
       "    <tr>\n",
       "      <th>2</th>\n",
       "      <td>2</td>\n",
       "      <td>CONDO</td>\n",
       "      <td>-1.0</td>\n",
       "      <td>252 S Musket Ridge Dr APT 3, Sun Prairie, WI 5...</td>\n",
       "      <td>https://photos.zillowstatic.com/fp/b5c4656b9a0...</td>\n",
       "      <td>1960.0</td>\n",
       "      <td>-89.198040</td>\n",
       "      <td>43.180622</td>\n",
       "      <td>2</td>\n",
       "      <td>1068</td>\n",
       "      <td>True</td>\n",
       "      <td>29</td>\n",
       "      <td>301</td>\n",
       "      <td>83</td>\n",
       "      <td>POINT (-89.19804 43.18062)</td>\n",
       "    </tr>\n",
       "    <tr>\n",
       "      <th>3</th>\n",
       "      <td>2</td>\n",
       "      <td>CONDO</td>\n",
       "      <td>-1.0</td>\n",
       "      <td>972 Chandler Ln, Sun Prairie, WI 53590</td>\n",
       "      <td>https://photos.zillowstatic.com/fp/7ee36c3aaba...</td>\n",
       "      <td>2100.0</td>\n",
       "      <td>-89.228294</td>\n",
       "      <td>43.197790</td>\n",
       "      <td>2</td>\n",
       "      <td>1606</td>\n",
       "      <td>True</td>\n",
       "      <td>27</td>\n",
       "      <td>299</td>\n",
       "      <td>88</td>\n",
       "      <td>POINT (-89.22829 43.19779)</td>\n",
       "    </tr>\n",
       "    <tr>\n",
       "      <th>4</th>\n",
       "      <td>1</td>\n",
       "      <td>CONDO</td>\n",
       "      <td>-1.0</td>\n",
       "      <td>1300 School St APT 204, Sun Prairie, WI 53590</td>\n",
       "      <td>https://photos.zillowstatic.com/fp/fccb02ddbd5...</td>\n",
       "      <td>1850.0</td>\n",
       "      <td>-89.231320</td>\n",
       "      <td>43.199596</td>\n",
       "      <td>1</td>\n",
       "      <td>1316</td>\n",
       "      <td>True</td>\n",
       "      <td>28</td>\n",
       "      <td>299</td>\n",
       "      <td>88</td>\n",
       "      <td>POINT (-89.23132 43.19960)</td>\n",
       "    </tr>\n",
       "  </tbody>\n",
       "</table>\n",
       "</div>"
      ],
      "text/plain": [
       "   nbath propertyType  lotAreaValue  \\\n",
       "0      2        CONDO          -1.0   \n",
       "1      2        CONDO          -1.0   \n",
       "2      2        CONDO          -1.0   \n",
       "3      2        CONDO          -1.0   \n",
       "4      1        CONDO          -1.0   \n",
       "\n",
       "                                             address  \\\n",
       "0                257 Talon Pl, Sun Prairie, WI 53590   \n",
       "1  252 S Musket Ridge Dr APT 1, Sun Prairie, WI 5...   \n",
       "2  252 S Musket Ridge Dr APT 3, Sun Prairie, WI 5...   \n",
       "3             972 Chandler Ln, Sun Prairie, WI 53590   \n",
       "4      1300 School St APT 204, Sun Prairie, WI 53590   \n",
       "\n",
       "                                              imgSrc  budget  longitude  \\\n",
       "0  https://photos.zillowstatic.com/fp/68472cee03d...  1700.0 -89.224850   \n",
       "1  https://photos.zillowstatic.com/fp/7fcf99be6a1...  1980.0 -89.198040   \n",
       "2  https://photos.zillowstatic.com/fp/b5c4656b9a0...  1960.0 -89.198040   \n",
       "3  https://photos.zillowstatic.com/fp/7ee36c3aaba...  2100.0 -89.228294   \n",
       "4  https://photos.zillowstatic.com/fp/fccb02ddbd5...  1850.0 -89.231320   \n",
       "\n",
       "    latitude  nbed  livingArea  hasImage  car  walk  bike  \\\n",
       "0  43.179280     2        1414      True   27   276    78   \n",
       "1  43.180622     2        1196      True   29   301    83   \n",
       "2  43.180622     2        1068      True   29   301    83   \n",
       "3  43.197790     2        1606      True   27   299    88   \n",
       "4  43.199596     1        1316      True   28   299    88   \n",
       "\n",
       "                     geometry  \n",
       "0  POINT (-89.22485 43.17928)  \n",
       "1  POINT (-89.19804 43.18062)  \n",
       "2  POINT (-89.19804 43.18062)  \n",
       "3  POINT (-89.22829 43.19779)  \n",
       "4  POINT (-89.23132 43.19960)  "
      ]
     },
     "execution_count": 19,
     "metadata": {},
     "output_type": "execute_result"
    }
   ],
   "source": [
    "gdf = gpd.GeoDataFrame(apartments, geometry=geo)\n",
    "gdf.head()"
   ]
  },
  {
   "cell_type": "code",
   "execution_count": 20,
   "metadata": {},
   "outputs": [],
   "source": [
    "# !wget https://www2.census.gov/geo/tiger/TIGER2019/COUSUB/tl_2019_55_cousub.zip\n",
    "# !unzip tl_2019_55_cousub.zip"
   ]
  },
  {
   "cell_type": "code",
   "execution_count": 21,
   "metadata": {},
   "outputs": [],
   "source": [
    "map = gpd.read_file('./tl_2019_55_cousub.shp')\n",
    "maplat = map.INTPTLAT.apply(lambda x: x[1:]).astype(float)\n",
    "maplon = map.INTPTLON.astype(float)"
   ]
  },
  {
   "cell_type": "code",
   "execution_count": 23,
   "metadata": {},
   "outputs": [
    {
     "name": "stdout",
     "output_type": "stream",
     "text": [
      "(30, 1) (33, 1)\n"
     ]
    }
   ],
   "source": [
    "#get the set of apartments that were given to residents or not given\n",
    "s = set(bl['a'].apply(lambda x: int(x[1:])-1))\n",
    "gdf['a'] = gdf.index\n",
    "assigned = gdf[gdf['a'].apply(lambda x: x in set(s))][['geometry']]\n",
    "notassigned = gdf[gdf['a'].apply(lambda x: x not in set(s))][['geometry']]\n",
    "print(assigned.shape, notassigned.shape)"
   ]
  },
  {
   "cell_type": "code",
   "execution_count": 79,
   "metadata": {},
   "outputs": [
    {
     "data": {
      "text/html": [
       "<div>\n",
       "<style scoped>\n",
       "    .dataframe tbody tr th:only-of-type {\n",
       "        vertical-align: middle;\n",
       "    }\n",
       "\n",
       "    .dataframe tbody tr th {\n",
       "        vertical-align: top;\n",
       "    }\n",
       "\n",
       "    .dataframe thead th {\n",
       "        text-align: right;\n",
       "    }\n",
       "</style>\n",
       "<table border=\"1\" class=\"dataframe\">\n",
       "  <thead>\n",
       "    <tr style=\"text-align: right;\">\n",
       "      <th></th>\n",
       "      <th>geometry</th>\n",
       "    </tr>\n",
       "  </thead>\n",
       "  <tbody>\n",
       "    <tr>\n",
       "      <th>0</th>\n",
       "      <td>POINT (-89.22485 43.17928)</td>\n",
       "    </tr>\n",
       "    <tr>\n",
       "      <th>7</th>\n",
       "      <td>POINT (-89.42924 43.01941)</td>\n",
       "    </tr>\n",
       "    <tr>\n",
       "      <th>16</th>\n",
       "      <td>POINT (-89.53266 42.97480)</td>\n",
       "    </tr>\n",
       "    <tr>\n",
       "      <th>17</th>\n",
       "      <td>POINT (-89.53240 42.97474)</td>\n",
       "    </tr>\n",
       "    <tr>\n",
       "      <th>18</th>\n",
       "      <td>POINT (-89.49972 43.04258)</td>\n",
       "    </tr>\n",
       "  </tbody>\n",
       "</table>\n",
       "</div>"
      ],
      "text/plain": [
       "                      geometry\n",
       "0   POINT (-89.22485 43.17928)\n",
       "7   POINT (-89.42924 43.01941)\n",
       "16  POINT (-89.53266 42.97480)\n",
       "17  POINT (-89.53240 42.97474)\n",
       "18  POINT (-89.49972 43.04258)"
      ]
     },
     "execution_count": 79,
     "metadata": {},
     "output_type": "execute_result"
    }
   ],
   "source": [
    "assigned.head()"
   ]
  },
  {
   "cell_type": "markdown",
   "metadata": {},
   "source": [
    "A visualization of which apartments were recommended to a resident and which were not:"
   ]
  },
  {
   "cell_type": "code",
   "execution_count": 25,
   "metadata": {},
   "outputs": [
    {
     "data": {
      "text/plain": [
       "<matplotlib.legend.Legend at 0x7fd6552ab9a0>"
      ]
     },
     "execution_count": 25,
     "metadata": {},
     "output_type": "execute_result"
    },
    {
     "data": {
      "image/png": "[encoded data removed]",
      "text/plain": [
       "<Figure size 1080x1080 with 1 Axes>"
      ]
     },
     "metadata": {},
     "output_type": "display_data"
    }
   ],
   "source": [
    "fig, ax = plt.subplots(figsize=(15,15))\n",
    "map[(maplat < 43.25) & (maplat >42.95) & (maplon > -89.6) & (maplon < -89.1)].plot(ax=ax)\n",
    "assigned.plot(ax=ax, markersize=30, color='red', label='assigned apartment')\n",
    "notassigned.plot(ax=ax, markersize=30, color='orange', label='non-assigned apartment')\n",
    "cs.plot(ax=ax, markersize=50, color='black', marker='x', label='CS Building')\n",
    "plt.legend(fontsize='xx-large')"
   ]
  },
  {
   "cell_type": "markdown",
   "metadata": {},
   "source": [
    "Note the area of apartments right on the lake near where the capitol is downtown. Likely, these are very expensive apartments that are outside a student budget, which is why they weren't assigned."
   ]
  },
  {
   "cell_type": "markdown",
   "metadata": {},
   "source": [
    "# Tradeoff model"
   ]
  },
  {
   "cell_type": "code",
   "execution_count": 26,
   "metadata": {},
   "outputs": [
    {
     "data": {
      "text/html": [
       "<div>\n",
       "<style scoped>\n",
       "    .dataframe tbody tr th:only-of-type {\n",
       "        vertical-align: middle;\n",
       "    }\n",
       "\n",
       "    .dataframe tbody tr th {\n",
       "        vertical-align: top;\n",
       "    }\n",
       "\n",
       "    .dataframe thead th {\n",
       "        text-align: right;\n",
       "    }\n",
       "</style>\n",
       "<table border=\"1\" class=\"dataframe\">\n",
       "  <thead>\n",
       "    <tr style=\"text-align: right;\">\n",
       "      <th></th>\n",
       "      <th>Solver Status</th>\n",
       "      <th>Model Status</th>\n",
       "      <th>Objective</th>\n",
       "      <th>#equ</th>\n",
       "      <th>#var</th>\n",
       "      <th>Model Type</th>\n",
       "      <th>Solver</th>\n",
       "      <th>Solver Time</th>\n",
       "    </tr>\n",
       "  </thead>\n",
       "  <tbody>\n",
       "    <tr>\n",
       "      <th>0</th>\n",
       "      <td>Normal (1)</td>\n",
       "      <td>Integer (8)</td>\n",
       "      <td>1.0788</td>\n",
       "      <td>2078</td>\n",
       "      <td>3813</td>\n",
       "      <td>MIP</td>\n",
       "      <td>CPLEX</td>\n",
       "      <td>0.84</td>\n",
       "    </tr>\n",
       "  </tbody>\n",
       "</table>\n",
       "</div>"
      ],
      "text/plain": [
       "  Solver Status Model Status  Objective  #equ  #var Model Type Solver  \\\n",
       "0    Normal (1)  Integer (8)     1.0788  2078  3813        MIP  CPLEX   \n",
       "\n",
       "  Solver Time  \n",
       "0        0.84  "
      ]
     },
     "execution_count": 26,
     "metadata": {},
     "output_type": "execute_result"
    }
   ],
   "source": [
    "%%gams \n",
    "alias(r2,r);\n",
    "alias(cr2,cr);\n",
    "scalars \n",
    "        lambda \"priority between minimizing average dissatisfaction and max dissatisfaction\" /0.4/,\n",
    "        infty \"stand-in for infinity in equations\" /1e5/;\n",
    "\n",
    "free variables \n",
    "        avgdis \"total dissatisfication\",\n",
    "        maxdis \"dissatisfaction of most dissatisfied resident\",\n",
    "        cdis \"combined dissatisfaction from average dissatisfaction and the most dissatisfied resident\";\n",
    "    \n",
    "positive variables disAON(r) \"dissatisfaction all or nothing - equals dis(r) if r is most dissatisfied resident and 0 otherwise\";\n",
    "\n",
    "binary variables\n",
    "        isMax(r) \"is the resident who is most dissatisfied\",\n",
    "        isntMax(r) \"isnt the resident who is most dissatisfied\",\n",
    "        worse(r,r2) \"only able to be 1 if r is at least as dissatisfied as r2\",\n",
    "        better(r, r2) \"must be 1 if r is less dissatisfied (=more satisfied) than r2\";\n",
    "\n",
    "equations\n",
    "        calcavgdis \"average dissatisfaction\",\n",
    "        calcmaxdis \"dissatisfaction of most dissatisfied resident\",\n",
    "        findbetter(r,r2) \"determine if r is happier than r2\",\n",
    "        findworse(r, r2) \"if r is less happy from r2\",\n",
    "        calcIsntmax(r) \"determine if r can potentially be the most dissatisfied resident\",\n",
    "        calcIsmax(r) \"determine if r will be selected as most dissatisfied\",\n",
    "        mostdissed \"choose only one resident as the most dissatisfied\",\n",
    "        disaon_lolim1(r) \"disAON is 0 if r isnt most dissatisfied\",\n",
    "        disaon_lolim2(r) \"disAON isnt greater than dis(r)\",\n",
    "        disaon_hilim(r) \"disAON is dis(r) if r is most dissatisfied\",\n",
    "#####################################\n",
    "# add new obj\n",
    "        traobj \"objective for tradeoff model\";\n",
    "#####################################\n",
    "\n",
    "findbetter(cr, cr2)..\n",
    "better(cr, cr2) =g= (rdis(cr2) - rdis(cr)) / infty;\n",
    "\n",
    "findworse(cr, cr2)..\n",
    "worse(cr, cr2) + better(cr, cr2) =e= 1;\n",
    "\n",
    "calcIsntmax(cr)..\n",
    "isntMax(cr) =g= 1/num_res * (-sum(cr2, worse(cr,cr2) ) + card(cr));\n",
    "\n",
    "calcIsmax(cr)..\n",
    "isMax(cr) + isntMax(cr) =e= 1;\n",
    "\n",
    "mostdissed..\n",
    "sum(cr, isMax(cr)) =e= 1;\n",
    "\n",
    "disaon_lolim1(cr)..\n",
    "disAON(cr) =l= infty * isMax(cr);\n",
    "\n",
    "disaon_lolim2(cr)..\n",
    "0 =l= rdis(cr) - disAON(cr);\n",
    "\n",
    "disaon_hilim(cr)..\n",
    "rdis(cr) - disAON(cr) =l= infty * (1-isMax(cr));\n",
    "\n",
    "calcavgdis..\n",
    "avgdis =e= (1/card(cr)) * sum(cr, rdis(cr));\n",
    "\n",
    "calcmaxdis..\n",
    "maxdis =e= sum(cr, disAON(cr));\n",
    "\n",
    "traobj..\n",
    "cdis =e= lambda*avgdis + (1-lambda)*maxdis;\n",
    "\n",
    "# newobj here\n",
    "model tra_model /traobj+calcdis+bound_1+bound_2+bound_3+findbetter+findworse+calcIsntmax+calcIsmax+mostdissed+disaon_lolim1+disaon_lolim2+disaon_hilim+calcavgdis+calcmaxdis/;\n",
    "solve tra_model using mip min cdis;"
   ]
  },
  {
   "cell_type": "markdown",
   "metadata": {},
   "source": [
    "## Model Analysis\n",
    "\n",
    "### How does the tradeoff model perform with different lambda?\n",
    "\n",
    "The lambda is designed as the tradeoff parameter between the average dissatisfaction, \"avgdis\", and the maximum dissatisfaction \"maxdis\". By decreasing lambda from 1 to 0, the model pays more and more effort on minimizing the max dissatisfaction. However, while the max dissatisfaction are minimized, the average dissatisfaction are increasing. In this part, we would like to discuss how these two values evolve with the decrease of lambda.\n",
    "\n",
    "We would set lambda = {1, 0.97, 0.95, 0.93, 0.90, 0.85, 0.80, 0.30, 0.15, 0.10, 0.07, 0.05, 0.03, 0}, and compare the variables \"avgdis\" and \"maxdis\"."
   ]
  },
  {
   "cell_type": "code",
   "execution_count": 27,
   "metadata": {},
   "outputs": [
    {
     "data": {
      "text/html": [
       "<div>\n",
       "<style scoped>\n",
       "    .dataframe tbody tr th:only-of-type {\n",
       "        vertical-align: middle;\n",
       "    }\n",
       "\n",
       "    .dataframe tbody tr th {\n",
       "        vertical-align: top;\n",
       "    }\n",
       "\n",
       "    .dataframe thead th {\n",
       "        text-align: right;\n",
       "    }\n",
       "</style>\n",
       "<table border=\"1\" class=\"dataframe\">\n",
       "  <thead>\n",
       "    <tr style=\"text-align: right;\">\n",
       "      <th></th>\n",
       "      <th>Solver Status</th>\n",
       "      <th>Model Status</th>\n",
       "      <th>Objective</th>\n",
       "      <th>#equ</th>\n",
       "      <th>#var</th>\n",
       "      <th>Model Type</th>\n",
       "      <th>Solver</th>\n",
       "      <th>Solver Time</th>\n",
       "    </tr>\n",
       "  </thead>\n",
       "  <tbody>\n",
       "    <tr>\n",
       "      <th>0</th>\n",
       "      <td>Normal (1)</td>\n",
       "      <td>Integer (8)</td>\n",
       "      <td>0.6967</td>\n",
       "      <td>2078</td>\n",
       "      <td>3813</td>\n",
       "      <td>MIP</td>\n",
       "      <td>CPLEX</td>\n",
       "      <td>0.127</td>\n",
       "    </tr>\n",
       "  </tbody>\n",
       "</table>\n",
       "</div>"
      ],
      "text/plain": [
       "  Solver Status Model Status  Objective  #equ  #var Model Type Solver  \\\n",
       "0    Normal (1)  Integer (8)     0.6967  2078  3813        MIP  CPLEX   \n",
       "\n",
       "  Solver Time  \n",
       "0       0.127  "
      ]
     },
     "execution_count": 27,
     "metadata": {},
     "output_type": "execute_result"
    }
   ],
   "source": [
    "%%gams\n",
    "lambda=1;\n",
    "solve tra_model using mip min cdis;\n",
    "parameter avgdis_1, maxdis_1;\n",
    "avgdis_1 = avgdis.l;\n",
    "maxdis_1 = maxdis.l;\n"
   ]
  },
  {
   "cell_type": "code",
   "execution_count": 28,
   "metadata": {},
   "outputs": [
    {
     "name": "stdout",
     "output_type": "stream",
     "text": [
      "      value\n",
      "0  0.696661\n",
      "      value\n",
      "0  1.356512\n"
     ]
    }
   ],
   "source": [
    "%gams_pull -d avgdis_1\n",
    "%gams_pull -d maxdis_1\n",
    "print(avgdis_1)\n",
    "print(maxdis_1)"
   ]
  },
  {
   "cell_type": "code",
   "execution_count": 29,
   "metadata": {},
   "outputs": [
    {
     "data": {
      "text/html": [
       "<div>\n",
       "<style scoped>\n",
       "    .dataframe tbody tr th:only-of-type {\n",
       "        vertical-align: middle;\n",
       "    }\n",
       "\n",
       "    .dataframe tbody tr th {\n",
       "        vertical-align: top;\n",
       "    }\n",
       "\n",
       "    .dataframe thead th {\n",
       "        text-align: right;\n",
       "    }\n",
       "</style>\n",
       "<table border=\"1\" class=\"dataframe\">\n",
       "  <thead>\n",
       "    <tr style=\"text-align: right;\">\n",
       "      <th></th>\n",
       "      <th>Solver Status</th>\n",
       "      <th>Model Status</th>\n",
       "      <th>Objective</th>\n",
       "      <th>#equ</th>\n",
       "      <th>#var</th>\n",
       "      <th>Model Type</th>\n",
       "      <th>Solver</th>\n",
       "      <th>Solver Time</th>\n",
       "    </tr>\n",
       "  </thead>\n",
       "  <tbody>\n",
       "    <tr>\n",
       "      <th>0</th>\n",
       "      <td>Normal (1)</td>\n",
       "      <td>Optimal Global (1)</td>\n",
       "      <td>0.7164</td>\n",
       "      <td>2078</td>\n",
       "      <td>3813</td>\n",
       "      <td>MIP</td>\n",
       "      <td>CPLEX</td>\n",
       "      <td>0.748</td>\n",
       "    </tr>\n",
       "  </tbody>\n",
       "</table>\n",
       "</div>"
      ],
      "text/plain": [
       "  Solver Status        Model Status  Objective  #equ  #var Model Type Solver  \\\n",
       "0    Normal (1)  Optimal Global (1)     0.7164  2078  3813        MIP  CPLEX   \n",
       "\n",
       "  Solver Time  \n",
       "0       0.748  "
      ]
     },
     "execution_count": 29,
     "metadata": {},
     "output_type": "execute_result"
    }
   ],
   "source": [
    "%%gams\n",
    "lambda=.97;\n",
    "solve tra_model using mip min cdis;\n",
    "parameter avgdis_97, maxdis_97;\n",
    "avgdis_97 = avgdis.l;\n",
    "maxdis_97 = maxdis.l;\n"
   ]
  },
  {
   "cell_type": "code",
   "execution_count": 30,
   "metadata": {},
   "outputs": [
    {
     "name": "stdout",
     "output_type": "stream",
     "text": [
      "      value\n",
      "0  0.696594\n",
      "      value\n",
      "0  1.356512\n"
     ]
    }
   ],
   "source": [
    "%gams_pull -d avgdis_97\n",
    "%gams_pull -d maxdis_97\n",
    "print(avgdis_97)\n",
    "print(maxdis_97)"
   ]
  },
  {
   "cell_type": "code",
   "execution_count": 31,
   "metadata": {},
   "outputs": [
    {
     "data": {
      "text/html": [
       "<div>\n",
       "<style scoped>\n",
       "    .dataframe tbody tr th:only-of-type {\n",
       "        vertical-align: middle;\n",
       "    }\n",
       "\n",
       "    .dataframe tbody tr th {\n",
       "        vertical-align: top;\n",
       "    }\n",
       "\n",
       "    .dataframe thead th {\n",
       "        text-align: right;\n",
       "    }\n",
       "</style>\n",
       "<table border=\"1\" class=\"dataframe\">\n",
       "  <thead>\n",
       "    <tr style=\"text-align: right;\">\n",
       "      <th></th>\n",
       "      <th>Solver Status</th>\n",
       "      <th>Model Status</th>\n",
       "      <th>Objective</th>\n",
       "      <th>#equ</th>\n",
       "      <th>#var</th>\n",
       "      <th>Model Type</th>\n",
       "      <th>Solver</th>\n",
       "      <th>Solver Time</th>\n",
       "    </tr>\n",
       "  </thead>\n",
       "  <tbody>\n",
       "    <tr>\n",
       "      <th>0</th>\n",
       "      <td>Normal (1)</td>\n",
       "      <td>Optimal Global (1)</td>\n",
       "      <td>0.7296</td>\n",
       "      <td>2078</td>\n",
       "      <td>3813</td>\n",
       "      <td>MIP</td>\n",
       "      <td>CPLEX</td>\n",
       "      <td>0.722</td>\n",
       "    </tr>\n",
       "  </tbody>\n",
       "</table>\n",
       "</div>"
      ],
      "text/plain": [
       "  Solver Status        Model Status  Objective  #equ  #var Model Type Solver  \\\n",
       "0    Normal (1)  Optimal Global (1)     0.7296  2078  3813        MIP  CPLEX   \n",
       "\n",
       "  Solver Time  \n",
       "0       0.722  "
      ]
     },
     "execution_count": 31,
     "metadata": {},
     "output_type": "execute_result"
    }
   ],
   "source": [
    "%%gams\n",
    "lambda=.95;\n",
    "solve tra_model using mip min cdis;\n",
    "parameter avgdis_95, maxdis_95;\n",
    "avgdis_95 = avgdis.l;\n",
    "maxdis_95 = maxdis.l;\n"
   ]
  },
  {
   "cell_type": "code",
   "execution_count": 32,
   "metadata": {},
   "outputs": [
    {
     "name": "stdout",
     "output_type": "stream",
     "text": [
      "      value\n",
      "0  0.696594\n",
      "      value\n",
      "0  1.356512\n"
     ]
    }
   ],
   "source": [
    "%gams_pull -d avgdis_95\n",
    "%gams_pull -d maxdis_95\n",
    "print(avgdis_95)\n",
    "print(maxdis_95)"
   ]
  },
  {
   "cell_type": "code",
   "execution_count": 33,
   "metadata": {},
   "outputs": [
    {
     "data": {
      "text/html": [
       "<div>\n",
       "<style scoped>\n",
       "    .dataframe tbody tr th:only-of-type {\n",
       "        vertical-align: middle;\n",
       "    }\n",
       "\n",
       "    .dataframe tbody tr th {\n",
       "        vertical-align: top;\n",
       "    }\n",
       "\n",
       "    .dataframe thead th {\n",
       "        text-align: right;\n",
       "    }\n",
       "</style>\n",
       "<table border=\"1\" class=\"dataframe\">\n",
       "  <thead>\n",
       "    <tr style=\"text-align: right;\">\n",
       "      <th></th>\n",
       "      <th>Solver Status</th>\n",
       "      <th>Model Status</th>\n",
       "      <th>Objective</th>\n",
       "      <th>#equ</th>\n",
       "      <th>#var</th>\n",
       "      <th>Model Type</th>\n",
       "      <th>Solver</th>\n",
       "      <th>Solver Time</th>\n",
       "    </tr>\n",
       "  </thead>\n",
       "  <tbody>\n",
       "    <tr>\n",
       "      <th>0</th>\n",
       "      <td>Normal (1)</td>\n",
       "      <td>Optimal Global (1)</td>\n",
       "      <td>0.7428</td>\n",
       "      <td>2078</td>\n",
       "      <td>3813</td>\n",
       "      <td>MIP</td>\n",
       "      <td>CPLEX</td>\n",
       "      <td>0.628</td>\n",
       "    </tr>\n",
       "  </tbody>\n",
       "</table>\n",
       "</div>"
      ],
      "text/plain": [
       "  Solver Status        Model Status  Objective  #equ  #var Model Type Solver  \\\n",
       "0    Normal (1)  Optimal Global (1)     0.7428  2078  3813        MIP  CPLEX   \n",
       "\n",
       "  Solver Time  \n",
       "0       0.628  "
      ]
     },
     "execution_count": 33,
     "metadata": {},
     "output_type": "execute_result"
    }
   ],
   "source": [
    "%%gams\n",
    "lambda=.93;\n",
    "solve tra_model using mip min cdis;\n",
    "parameter avgdis_93, maxdis_93;\n",
    "avgdis_93 = avgdis.l;\n",
    "maxdis_93 = maxdis.l;\n"
   ]
  },
  {
   "cell_type": "code",
   "execution_count": 34,
   "metadata": {},
   "outputs": [
    {
     "name": "stdout",
     "output_type": "stream",
     "text": [
      "      value\n",
      "0  0.696594\n",
      "      value\n",
      "0  1.356512\n"
     ]
    }
   ],
   "source": [
    "%gams_pull -d avgdis_93\n",
    "%gams_pull -d maxdis_93\n",
    "print(avgdis_93)\n",
    "print(maxdis_93)"
   ]
  },
  {
   "cell_type": "code",
   "execution_count": 35,
   "metadata": {},
   "outputs": [
    {
     "data": {
      "text/html": [
       "<div>\n",
       "<style scoped>\n",
       "    .dataframe tbody tr th:only-of-type {\n",
       "        vertical-align: middle;\n",
       "    }\n",
       "\n",
       "    .dataframe tbody tr th {\n",
       "        vertical-align: top;\n",
       "    }\n",
       "\n",
       "    .dataframe thead th {\n",
       "        text-align: right;\n",
       "    }\n",
       "</style>\n",
       "<table border=\"1\" class=\"dataframe\">\n",
       "  <thead>\n",
       "    <tr style=\"text-align: right;\">\n",
       "      <th></th>\n",
       "      <th>Solver Status</th>\n",
       "      <th>Model Status</th>\n",
       "      <th>Objective</th>\n",
       "      <th>#equ</th>\n",
       "      <th>#var</th>\n",
       "      <th>Model Type</th>\n",
       "      <th>Solver</th>\n",
       "      <th>Solver Time</th>\n",
       "    </tr>\n",
       "  </thead>\n",
       "  <tbody>\n",
       "    <tr>\n",
       "      <th>0</th>\n",
       "      <td>Normal (1)</td>\n",
       "      <td>Optimal Global (1)</td>\n",
       "      <td>0.7626</td>\n",
       "      <td>2078</td>\n",
       "      <td>3813</td>\n",
       "      <td>MIP</td>\n",
       "      <td>CPLEX</td>\n",
       "      <td>0.531</td>\n",
       "    </tr>\n",
       "  </tbody>\n",
       "</table>\n",
       "</div>"
      ],
      "text/plain": [
       "  Solver Status        Model Status  Objective  #equ  #var Model Type Solver  \\\n",
       "0    Normal (1)  Optimal Global (1)     0.7626  2078  3813        MIP  CPLEX   \n",
       "\n",
       "  Solver Time  \n",
       "0       0.531  "
      ]
     },
     "execution_count": 35,
     "metadata": {},
     "output_type": "execute_result"
    }
   ],
   "source": [
    "%%gams\n",
    "lambda=.90;\n",
    "solve tra_model using mip min cdis;\n",
    "parameter avgdis_90, maxdis_90;\n",
    "avgdis_90 = avgdis.l;\n",
    "maxdis_90 = maxdis.l;\n"
   ]
  },
  {
   "cell_type": "code",
   "execution_count": 36,
   "metadata": {},
   "outputs": [
    {
     "name": "stdout",
     "output_type": "stream",
     "text": [
      "      value\n",
      "0  0.696594\n",
      "      value\n",
      "0  1.356512\n"
     ]
    }
   ],
   "source": [
    "%gams_pull -d avgdis_90\n",
    "%gams_pull -d maxdis_90\n",
    "print(avgdis_90)\n",
    "print(maxdis_90)"
   ]
  },
  {
   "cell_type": "code",
   "execution_count": 37,
   "metadata": {},
   "outputs": [
    {
     "data": {
      "text/html": [
       "<div>\n",
       "<style scoped>\n",
       "    .dataframe tbody tr th:only-of-type {\n",
       "        vertical-align: middle;\n",
       "    }\n",
       "\n",
       "    .dataframe tbody tr th {\n",
       "        vertical-align: top;\n",
       "    }\n",
       "\n",
       "    .dataframe thead th {\n",
       "        text-align: right;\n",
       "    }\n",
       "</style>\n",
       "<table border=\"1\" class=\"dataframe\">\n",
       "  <thead>\n",
       "    <tr style=\"text-align: right;\">\n",
       "      <th></th>\n",
       "      <th>Solver Status</th>\n",
       "      <th>Model Status</th>\n",
       "      <th>Objective</th>\n",
       "      <th>#equ</th>\n",
       "      <th>#var</th>\n",
       "      <th>Model Type</th>\n",
       "      <th>Solver</th>\n",
       "      <th>Solver Time</th>\n",
       "    </tr>\n",
       "  </thead>\n",
       "  <tbody>\n",
       "    <tr>\n",
       "      <th>0</th>\n",
       "      <td>Normal (1)</td>\n",
       "      <td>Optimal Global (1)</td>\n",
       "      <td>0.7956</td>\n",
       "      <td>2078</td>\n",
       "      <td>3813</td>\n",
       "      <td>MIP</td>\n",
       "      <td>CPLEX</td>\n",
       "      <td>0.653</td>\n",
       "    </tr>\n",
       "  </tbody>\n",
       "</table>\n",
       "</div>"
      ],
      "text/plain": [
       "  Solver Status        Model Status  Objective  #equ  #var Model Type Solver  \\\n",
       "0    Normal (1)  Optimal Global (1)     0.7956  2078  3813        MIP  CPLEX   \n",
       "\n",
       "  Solver Time  \n",
       "0       0.653  "
      ]
     },
     "execution_count": 37,
     "metadata": {},
     "output_type": "execute_result"
    }
   ],
   "source": [
    "%%gams\n",
    "lambda=.85;\n",
    "solve tra_model using mip min cdis;\n",
    "parameter avgdis_85, maxdis_85;\n",
    "avgdis_85 = avgdis.l;\n",
    "maxdis_85 = maxdis.l;\n"
   ]
  },
  {
   "cell_type": "code",
   "execution_count": 38,
   "metadata": {},
   "outputs": [
    {
     "name": "stdout",
     "output_type": "stream",
     "text": [
      "      value\n",
      "0  0.696594\n",
      "      value\n",
      "0  1.356512\n"
     ]
    }
   ],
   "source": [
    "%gams_pull -d avgdis_85\n",
    "%gams_pull -d maxdis_85\n",
    "print(avgdis_85)\n",
    "print(maxdis_85)"
   ]
  },
  {
   "cell_type": "code",
   "execution_count": 39,
   "metadata": {},
   "outputs": [
    {
     "data": {
      "text/html": [
       "<div>\n",
       "<style scoped>\n",
       "    .dataframe tbody tr th:only-of-type {\n",
       "        vertical-align: middle;\n",
       "    }\n",
       "\n",
       "    .dataframe tbody tr th {\n",
       "        vertical-align: top;\n",
       "    }\n",
       "\n",
       "    .dataframe thead th {\n",
       "        text-align: right;\n",
       "    }\n",
       "</style>\n",
       "<table border=\"1\" class=\"dataframe\">\n",
       "  <thead>\n",
       "    <tr style=\"text-align: right;\">\n",
       "      <th></th>\n",
       "      <th>Solver Status</th>\n",
       "      <th>Model Status</th>\n",
       "      <th>Objective</th>\n",
       "      <th>#equ</th>\n",
       "      <th>#var</th>\n",
       "      <th>Model Type</th>\n",
       "      <th>Solver</th>\n",
       "      <th>Solver Time</th>\n",
       "    </tr>\n",
       "  </thead>\n",
       "  <tbody>\n",
       "    <tr>\n",
       "      <th>0</th>\n",
       "      <td>Normal (1)</td>\n",
       "      <td>Optimal Global (1)</td>\n",
       "      <td>0.8286</td>\n",
       "      <td>2078</td>\n",
       "      <td>3813</td>\n",
       "      <td>MIP</td>\n",
       "      <td>CPLEX</td>\n",
       "      <td>1.096</td>\n",
       "    </tr>\n",
       "  </tbody>\n",
       "</table>\n",
       "</div>"
      ],
      "text/plain": [
       "  Solver Status        Model Status  Objective  #equ  #var Model Type Solver  \\\n",
       "0    Normal (1)  Optimal Global (1)     0.8286  2078  3813        MIP  CPLEX   \n",
       "\n",
       "  Solver Time  \n",
       "0       1.096  "
      ]
     },
     "execution_count": 39,
     "metadata": {},
     "output_type": "execute_result"
    }
   ],
   "source": [
    "%%gams\n",
    "lambda=.80;\n",
    "solve tra_model using mip min cdis;\n",
    "parameter avgdis_80, maxdis_80;\n",
    "avgdis_80 = avgdis.l;\n",
    "maxdis_80 = maxdis.l;\n"
   ]
  },
  {
   "cell_type": "code",
   "execution_count": 40,
   "metadata": {},
   "outputs": [
    {
     "name": "stdout",
     "output_type": "stream",
     "text": [
      "      value\n",
      "0  0.696594\n",
      "      value\n",
      "0  1.356512\n"
     ]
    }
   ],
   "source": [
    "%gams_pull -d avgdis_80\n",
    "%gams_pull -d maxdis_80\n",
    "print(avgdis_80)\n",
    "print(maxdis_80)"
   ]
  },
  {
   "cell_type": "code",
   "execution_count": 41,
   "metadata": {},
   "outputs": [
    {
     "data": {
      "text/html": [
       "<div>\n",
       "<style scoped>\n",
       "    .dataframe tbody tr th:only-of-type {\n",
       "        vertical-align: middle;\n",
       "    }\n",
       "\n",
       "    .dataframe tbody tr th {\n",
       "        vertical-align: top;\n",
       "    }\n",
       "\n",
       "    .dataframe thead th {\n",
       "        text-align: right;\n",
       "    }\n",
       "</style>\n",
       "<table border=\"1\" class=\"dataframe\">\n",
       "  <thead>\n",
       "    <tr style=\"text-align: right;\">\n",
       "      <th></th>\n",
       "      <th>Solver Status</th>\n",
       "      <th>Model Status</th>\n",
       "      <th>Objective</th>\n",
       "      <th>#equ</th>\n",
       "      <th>#var</th>\n",
       "      <th>Model Type</th>\n",
       "      <th>Solver</th>\n",
       "      <th>Solver Time</th>\n",
       "    </tr>\n",
       "  </thead>\n",
       "  <tbody>\n",
       "    <tr>\n",
       "      <th>0</th>\n",
       "      <td>Normal (1)</td>\n",
       "      <td>Optimal Global (1)</td>\n",
       "      <td>1.137</td>\n",
       "      <td>2078</td>\n",
       "      <td>3813</td>\n",
       "      <td>MIP</td>\n",
       "      <td>CPLEX</td>\n",
       "      <td>0.488</td>\n",
       "    </tr>\n",
       "  </tbody>\n",
       "</table>\n",
       "</div>"
      ],
      "text/plain": [
       "  Solver Status        Model Status  Objective  #equ  #var Model Type Solver  \\\n",
       "0    Normal (1)  Optimal Global (1)      1.137  2078  3813        MIP  CPLEX   \n",
       "\n",
       "  Solver Time  \n",
       "0       0.488  "
      ]
     },
     "execution_count": 41,
     "metadata": {},
     "output_type": "execute_result"
    }
   ],
   "source": [
    "%%gams\n",
    "lambda=.3;\n",
    "solve tra_model using mip min cdis;\n",
    "parameter avgdis_3, maxdis_3;\n",
    "avgdis_3 = avgdis.l;\n",
    "maxdis_3 = maxdis.l;\n"
   ]
  },
  {
   "cell_type": "code",
   "execution_count": 42,
   "metadata": {},
   "outputs": [
    {
     "name": "stdout",
     "output_type": "stream",
     "text": [
      "      value\n",
      "0  0.729289\n",
      "      value\n",
      "0  1.311782\n"
     ]
    }
   ],
   "source": [
    "%gams_pull -d avgdis_3\n",
    "%gams_pull -d maxdis_3\n",
    "print(avgdis_3)\n",
    "print(maxdis_3)"
   ]
  },
  {
   "cell_type": "code",
   "execution_count": 43,
   "metadata": {},
   "outputs": [
    {
     "data": {
      "text/html": [
       "<div>\n",
       "<style scoped>\n",
       "    .dataframe tbody tr th:only-of-type {\n",
       "        vertical-align: middle;\n",
       "    }\n",
       "\n",
       "    .dataframe tbody tr th {\n",
       "        vertical-align: top;\n",
       "    }\n",
       "\n",
       "    .dataframe thead th {\n",
       "        text-align: right;\n",
       "    }\n",
       "</style>\n",
       "<table border=\"1\" class=\"dataframe\">\n",
       "  <thead>\n",
       "    <tr style=\"text-align: right;\">\n",
       "      <th></th>\n",
       "      <th>Solver Status</th>\n",
       "      <th>Model Status</th>\n",
       "      <th>Objective</th>\n",
       "      <th>#equ</th>\n",
       "      <th>#var</th>\n",
       "      <th>Model Type</th>\n",
       "      <th>Solver</th>\n",
       "      <th>Solver Time</th>\n",
       "    </tr>\n",
       "  </thead>\n",
       "  <tbody>\n",
       "    <tr>\n",
       "      <th>0</th>\n",
       "      <td>Normal (1)</td>\n",
       "      <td>Integer (8)</td>\n",
       "      <td>1.2244</td>\n",
       "      <td>2078</td>\n",
       "      <td>3813</td>\n",
       "      <td>MIP</td>\n",
       "      <td>CPLEX</td>\n",
       "      <td>0.951</td>\n",
       "    </tr>\n",
       "  </tbody>\n",
       "</table>\n",
       "</div>"
      ],
      "text/plain": [
       "  Solver Status Model Status  Objective  #equ  #var Model Type Solver  \\\n",
       "0    Normal (1)  Integer (8)     1.2244  2078  3813        MIP  CPLEX   \n",
       "\n",
       "  Solver Time  \n",
       "0       0.951  "
      ]
     },
     "execution_count": 43,
     "metadata": {},
     "output_type": "execute_result"
    }
   ],
   "source": [
    "%%gams\n",
    "lambda=.15;\n",
    "solve tra_model using mip min cdis;\n",
    "parameter avgdis_15, maxdis_15;\n",
    "avgdis_15 = avgdis.l;\n",
    "maxdis_15 = maxdis.l;\n"
   ]
  },
  {
   "cell_type": "code",
   "execution_count": 44,
   "metadata": {},
   "outputs": [
    {
     "name": "stdout",
     "output_type": "stream",
     "text": [
      "      value\n",
      "0  0.729294\n",
      "      value\n",
      "0  1.311782\n"
     ]
    }
   ],
   "source": [
    "%gams_pull -d avgdis_15\n",
    "%gams_pull -d maxdis_15\n",
    "print(avgdis_15)\n",
    "print(maxdis_15)"
   ]
  },
  {
   "cell_type": "code",
   "execution_count": 45,
   "metadata": {},
   "outputs": [
    {
     "data": {
      "text/html": [
       "<div>\n",
       "<style scoped>\n",
       "    .dataframe tbody tr th:only-of-type {\n",
       "        vertical-align: middle;\n",
       "    }\n",
       "\n",
       "    .dataframe tbody tr th {\n",
       "        vertical-align: top;\n",
       "    }\n",
       "\n",
       "    .dataframe thead th {\n",
       "        text-align: right;\n",
       "    }\n",
       "</style>\n",
       "<table border=\"1\" class=\"dataframe\">\n",
       "  <thead>\n",
       "    <tr style=\"text-align: right;\">\n",
       "      <th></th>\n",
       "      <th>Solver Status</th>\n",
       "      <th>Model Status</th>\n",
       "      <th>Objective</th>\n",
       "      <th>#equ</th>\n",
       "      <th>#var</th>\n",
       "      <th>Model Type</th>\n",
       "      <th>Solver</th>\n",
       "      <th>Solver Time</th>\n",
       "    </tr>\n",
       "  </thead>\n",
       "  <tbody>\n",
       "    <tr>\n",
       "      <th>0</th>\n",
       "      <td>Normal (1)</td>\n",
       "      <td>Integer (8)</td>\n",
       "      <td>1.2535</td>\n",
       "      <td>2078</td>\n",
       "      <td>3813</td>\n",
       "      <td>MIP</td>\n",
       "      <td>CPLEX</td>\n",
       "      <td>0.711</td>\n",
       "    </tr>\n",
       "  </tbody>\n",
       "</table>\n",
       "</div>"
      ],
      "text/plain": [
       "  Solver Status Model Status  Objective  #equ  #var Model Type Solver  \\\n",
       "0    Normal (1)  Integer (8)     1.2535  2078  3813        MIP  CPLEX   \n",
       "\n",
       "  Solver Time  \n",
       "0       0.711  "
      ]
     },
     "execution_count": 45,
     "metadata": {},
     "output_type": "execute_result"
    }
   ],
   "source": [
    "%%gams\n",
    "lambda=.1;\n",
    "solve tra_model using mip min cdis;\n",
    "parameter avgdis_10, maxdis_10;\n",
    "avgdis_10 = avgdis.l;\n",
    "maxdis_10 = maxdis.l;\n"
   ]
  },
  {
   "cell_type": "code",
   "execution_count": 46,
   "metadata": {},
   "outputs": [
    {
     "name": "stdout",
     "output_type": "stream",
     "text": [
      "      value\n",
      "0  0.729289\n",
      "      value\n",
      "0  1.311782\n"
     ]
    }
   ],
   "source": [
    "%gams_pull -d avgdis_10\n",
    "%gams_pull -d maxdis_10\n",
    "print(avgdis_10)\n",
    "print(maxdis_10)"
   ]
  },
  {
   "cell_type": "code",
   "execution_count": 47,
   "metadata": {},
   "outputs": [
    {
     "data": {
      "text/html": [
       "<div>\n",
       "<style scoped>\n",
       "    .dataframe tbody tr th:only-of-type {\n",
       "        vertical-align: middle;\n",
       "    }\n",
       "\n",
       "    .dataframe tbody tr th {\n",
       "        vertical-align: top;\n",
       "    }\n",
       "\n",
       "    .dataframe thead th {\n",
       "        text-align: right;\n",
       "    }\n",
       "</style>\n",
       "<table border=\"1\" class=\"dataframe\">\n",
       "  <thead>\n",
       "    <tr style=\"text-align: right;\">\n",
       "      <th></th>\n",
       "      <th>Solver Status</th>\n",
       "      <th>Model Status</th>\n",
       "      <th>Objective</th>\n",
       "      <th>#equ</th>\n",
       "      <th>#var</th>\n",
       "      <th>Model Type</th>\n",
       "      <th>Solver</th>\n",
       "      <th>Solver Time</th>\n",
       "    </tr>\n",
       "  </thead>\n",
       "  <tbody>\n",
       "    <tr>\n",
       "      <th>0</th>\n",
       "      <td>Normal (1)</td>\n",
       "      <td>Integer (8)</td>\n",
       "      <td>1.271</td>\n",
       "      <td>2078</td>\n",
       "      <td>3813</td>\n",
       "      <td>MIP</td>\n",
       "      <td>CPLEX</td>\n",
       "      <td>0.497</td>\n",
       "    </tr>\n",
       "  </tbody>\n",
       "</table>\n",
       "</div>"
      ],
      "text/plain": [
       "  Solver Status Model Status  Objective  #equ  #var Model Type Solver  \\\n",
       "0    Normal (1)  Integer (8)      1.271  2078  3813        MIP  CPLEX   \n",
       "\n",
       "  Solver Time  \n",
       "0       0.497  "
      ]
     },
     "execution_count": 47,
     "metadata": {},
     "output_type": "execute_result"
    }
   ],
   "source": [
    "%%gams\n",
    "lambda=.07;\n",
    "solve tra_model using mip min cdis;\n",
    "parameter avgdis_07, maxdis_07;\n",
    "avgdis_07 = avgdis.l;\n",
    "maxdis_07 = maxdis.l;\n"
   ]
  },
  {
   "cell_type": "code",
   "execution_count": 48,
   "metadata": {},
   "outputs": [
    {
     "name": "stdout",
     "output_type": "stream",
     "text": [
      "      value\n",
      "0  0.729294\n",
      "      value\n",
      "0  1.311782\n"
     ]
    }
   ],
   "source": [
    "%gams_pull -d avgdis_07\n",
    "%gams_pull -d maxdis_07\n",
    "print(avgdis_07)\n",
    "print(maxdis_07)"
   ]
  },
  {
   "cell_type": "code",
   "execution_count": 49,
   "metadata": {},
   "outputs": [
    {
     "data": {
      "text/html": [
       "<div>\n",
       "<style scoped>\n",
       "    .dataframe tbody tr th:only-of-type {\n",
       "        vertical-align: middle;\n",
       "    }\n",
       "\n",
       "    .dataframe tbody tr th {\n",
       "        vertical-align: top;\n",
       "    }\n",
       "\n",
       "    .dataframe thead th {\n",
       "        text-align: right;\n",
       "    }\n",
       "</style>\n",
       "<table border=\"1\" class=\"dataframe\">\n",
       "  <thead>\n",
       "    <tr style=\"text-align: right;\">\n",
       "      <th></th>\n",
       "      <th>Solver Status</th>\n",
       "      <th>Model Status</th>\n",
       "      <th>Objective</th>\n",
       "      <th>#equ</th>\n",
       "      <th>#var</th>\n",
       "      <th>Model Type</th>\n",
       "      <th>Solver</th>\n",
       "      <th>Solver Time</th>\n",
       "    </tr>\n",
       "  </thead>\n",
       "  <tbody>\n",
       "    <tr>\n",
       "      <th>0</th>\n",
       "      <td>Normal (1)</td>\n",
       "      <td>Optimal Global (1)</td>\n",
       "      <td>1.2827</td>\n",
       "      <td>2078</td>\n",
       "      <td>3813</td>\n",
       "      <td>MIP</td>\n",
       "      <td>CPLEX</td>\n",
       "      <td>0.565</td>\n",
       "    </tr>\n",
       "  </tbody>\n",
       "</table>\n",
       "</div>"
      ],
      "text/plain": [
       "  Solver Status        Model Status  Objective  #equ  #var Model Type Solver  \\\n",
       "0    Normal (1)  Optimal Global (1)     1.2827  2078  3813        MIP  CPLEX   \n",
       "\n",
       "  Solver Time  \n",
       "0       0.565  "
      ]
     },
     "execution_count": 49,
     "metadata": {},
     "output_type": "execute_result"
    }
   ],
   "source": [
    "%%gams\n",
    "lambda=.05;\n",
    "solve tra_model using mip min cdis;\n",
    "parameter avgdis_05, maxdis_05;\n",
    "avgdis_05 = avgdis.l;\n",
    "maxdis_05 = maxdis.l;\n"
   ]
  },
  {
   "cell_type": "code",
   "execution_count": 50,
   "metadata": {},
   "outputs": [
    {
     "name": "stdout",
     "output_type": "stream",
     "text": [
      "      value\n",
      "0  0.729294\n",
      "      value\n",
      "0  1.311782\n"
     ]
    }
   ],
   "source": [
    "%gams_pull -d avgdis_05\n",
    "%gams_pull -d maxdis_05\n",
    "print(avgdis_05)\n",
    "print(maxdis_05)"
   ]
  },
  {
   "cell_type": "code",
   "execution_count": 51,
   "metadata": {},
   "outputs": [
    {
     "data": {
      "text/html": [
       "<div>\n",
       "<style scoped>\n",
       "    .dataframe tbody tr th:only-of-type {\n",
       "        vertical-align: middle;\n",
       "    }\n",
       "\n",
       "    .dataframe tbody tr th {\n",
       "        vertical-align: top;\n",
       "    }\n",
       "\n",
       "    .dataframe thead th {\n",
       "        text-align: right;\n",
       "    }\n",
       "</style>\n",
       "<table border=\"1\" class=\"dataframe\">\n",
       "  <thead>\n",
       "    <tr style=\"text-align: right;\">\n",
       "      <th></th>\n",
       "      <th>Solver Status</th>\n",
       "      <th>Model Status</th>\n",
       "      <th>Objective</th>\n",
       "      <th>#equ</th>\n",
       "      <th>#var</th>\n",
       "      <th>Model Type</th>\n",
       "      <th>Solver</th>\n",
       "      <th>Solver Time</th>\n",
       "    </tr>\n",
       "  </thead>\n",
       "  <tbody>\n",
       "    <tr>\n",
       "      <th>0</th>\n",
       "      <td>Normal (1)</td>\n",
       "      <td>Optimal Global (1)</td>\n",
       "      <td>1.2943</td>\n",
       "      <td>2078</td>\n",
       "      <td>3813</td>\n",
       "      <td>MIP</td>\n",
       "      <td>CPLEX</td>\n",
       "      <td>0.521</td>\n",
       "    </tr>\n",
       "  </tbody>\n",
       "</table>\n",
       "</div>"
      ],
      "text/plain": [
       "  Solver Status        Model Status  Objective  #equ  #var Model Type Solver  \\\n",
       "0    Normal (1)  Optimal Global (1)     1.2943  2078  3813        MIP  CPLEX   \n",
       "\n",
       "  Solver Time  \n",
       "0       0.521  "
      ]
     },
     "execution_count": 51,
     "metadata": {},
     "output_type": "execute_result"
    }
   ],
   "source": [
    "%%gams\n",
    "lambda=.03;\n",
    "solve tra_model using mip min cdis;\n",
    "parameter avgdis_03, maxdis_03;\n",
    "avgdis_03 = avgdis.l;\n",
    "maxdis_03 = maxdis.l;\n"
   ]
  },
  {
   "cell_type": "code",
   "execution_count": 52,
   "metadata": {},
   "outputs": [
    {
     "name": "stdout",
     "output_type": "stream",
     "text": [
      "      value\n",
      "0  0.729294\n",
      "      value\n",
      "0  1.311782\n"
     ]
    }
   ],
   "source": [
    "%gams_pull -d avgdis_03\n",
    "%gams_pull -d maxdis_03\n",
    "print(avgdis_03)\n",
    "print(maxdis_03)"
   ]
  },
  {
   "cell_type": "code",
   "execution_count": 53,
   "metadata": {},
   "outputs": [
    {
     "data": {
      "text/html": [
       "<div>\n",
       "<style scoped>\n",
       "    .dataframe tbody tr th:only-of-type {\n",
       "        vertical-align: middle;\n",
       "    }\n",
       "\n",
       "    .dataframe tbody tr th {\n",
       "        vertical-align: top;\n",
       "    }\n",
       "\n",
       "    .dataframe thead th {\n",
       "        text-align: right;\n",
       "    }\n",
       "</style>\n",
       "<table border=\"1\" class=\"dataframe\">\n",
       "  <thead>\n",
       "    <tr style=\"text-align: right;\">\n",
       "      <th></th>\n",
       "      <th>Solver Status</th>\n",
       "      <th>Model Status</th>\n",
       "      <th>Objective</th>\n",
       "      <th>#equ</th>\n",
       "      <th>#var</th>\n",
       "      <th>Model Type</th>\n",
       "      <th>Solver</th>\n",
       "      <th>Solver Time</th>\n",
       "    </tr>\n",
       "  </thead>\n",
       "  <tbody>\n",
       "    <tr>\n",
       "      <th>0</th>\n",
       "      <td>Normal (1)</td>\n",
       "      <td>Optimal Global (1)</td>\n",
       "      <td>1.3118</td>\n",
       "      <td>2078</td>\n",
       "      <td>3813</td>\n",
       "      <td>MIP</td>\n",
       "      <td>CPLEX</td>\n",
       "      <td>0.393</td>\n",
       "    </tr>\n",
       "  </tbody>\n",
       "</table>\n",
       "</div>"
      ],
      "text/plain": [
       "  Solver Status        Model Status  Objective  #equ  #var Model Type Solver  \\\n",
       "0    Normal (1)  Optimal Global (1)     1.3118  2078  3813        MIP  CPLEX   \n",
       "\n",
       "  Solver Time  \n",
       "0       0.393  "
      ]
     },
     "execution_count": 53,
     "metadata": {},
     "output_type": "execute_result"
    }
   ],
   "source": [
    "%%gams\n",
    "lambda=0;\n",
    "solve tra_model using mip min cdis;\n",
    "parameter avgdis_0, maxdis_0;\n",
    "avgdis_0 = avgdis.l;\n",
    "maxdis_0 = maxdis.l;\n"
   ]
  },
  {
   "cell_type": "code",
   "execution_count": 54,
   "metadata": {},
   "outputs": [
    {
     "name": "stdout",
     "output_type": "stream",
     "text": [
      "      value\n",
      "0  0.915259\n",
      "      value\n",
      "0  1.311782\n"
     ]
    }
   ],
   "source": [
    "%gams_pull -d avgdis_0\n",
    "%gams_pull -d maxdis_0\n",
    "print(avgdis_0)\n",
    "print(maxdis_0)"
   ]
  },
  {
   "cell_type": "code",
   "execution_count": 55,
   "metadata": {},
   "outputs": [
    {
     "data": {
      "image/png": "[encoded data removed]",
      "text/plain": [
       "<Figure size 432x288 with 1 Axes>"
      ]
     },
     "metadata": {},
     "output_type": "display_data"
    }
   ],
   "source": [
    "import numpy as np\n",
    "# make data\n",
    "x = np.array([1, 0.97, 0.95, 0.93, 0.90, 0.85, 0.80, 0.30, 0.15, 0.10, 0.07, 0.05, 0.03, 0])\n",
    "y_1 = np.array([avgdis_1,avgdis_97,avgdis_95,avgdis_93,avgdis_90,avgdis_85,avgdis_80,avgdis_3,avgdis_15,avgdis_10,avgdis_07,avgdis_05,avgdis_03,avgdis_0])\n",
    "y_1 = y_1.ravel()\n",
    "y_2 = np.array([maxdis_1,maxdis_97,maxdis_95,maxdis_93,maxdis_90,maxdis_85,maxdis_80,maxdis_3,maxdis_15,maxdis_10,maxdis_07,maxdis_05,maxdis_03,maxdis_0])\n",
    "y_2 = y_2.ravel()\n",
    "\n",
    "#fig, ax = plt.subplots()\n",
    "\n",
    "#ax.plot(x, y_1, linewidth=2.0)\n",
    "#ax.plot(x, y_2, linewidth=2.0)\n",
    "\n",
    "#ax.set(xlim=(0, 1), ylim=(0.45, 0.65))\n",
    "\n",
    "plt.plot(x, y_1, linewidth=2.0, label = 'avgdis')\n",
    "plt.plot(x, y_2, linewidth=2.0, label = 'maxdis')\n",
    "plt.legend()\n",
    "plt.xlabel('value of lambda')\n",
    "plt.ylabel('value of avgdis and maxdis')\n",
    "plt.show()"
   ]
  },
  {
   "cell_type": "markdown",
   "metadata": {},
   "source": [
    "#### Conclusion\n",
    "\n",
    "The graph shows the following property of this model:\n",
    "1. When lambda = 1, it only cares aboout minimizing avgdis, therefore, we get the minimal avgdis: 0.510446 but the largest maxdis: 1.123596.\n",
    "2. When lambda decreases a little to 0.97, 0.95, until 0.93 the avgdis increases slowly to 0.519444 and the maxdis decreases greatly to 0.949853. This observation shows the superiority of the model: it is able to find a maxdis which is close to the minimal value and only increase the avgdis a little. In the other word, we are able to assign a better apartment to the resident who received the most dissatisfying one, and in the mean time, not disturbing other residents.\n",
    "3. Both avgdis and maxdis reaches a stable stage where avgdis increases slowly and maxdis decreases slowly while lambda converging to 0.\n",
    "4. When lambda reached 0, maxdis arrived at its minimal 0.93754, but since the avgdis is no longer maintain, it reaches its highest level: 0.634159."
   ]
  },
  {
   "cell_type": "markdown",
   "metadata": {},
   "source": [
    "### How does the tradeoff model perform in extreme scenarios? Is it robust?\n",
    "\n",
    "Here, the model is tested by several extreme scenarios to see whether it can still output resonable solutions. \n",
    "\n",
    "The following scenarios are considered:\n",
    "\n",
    "#### 1. Suppose some resident 100% wants a one-bed apartment and doesn't care about anything else. Let's simulate this scenario, then check if this resident's assigned apartment is indeed a 1-bedroom."
   ]
  },
  {
   "cell_type": "code",
   "execution_count": 56,
   "metadata": {},
   "outputs": [
    {
     "data": {
      "text/html": [
       "<div>\n",
       "<style scoped>\n",
       "    .dataframe tbody tr th:only-of-type {\n",
       "        vertical-align: middle;\n",
       "    }\n",
       "\n",
       "    .dataframe tbody tr th {\n",
       "        vertical-align: top;\n",
       "    }\n",
       "\n",
       "    .dataframe thead th {\n",
       "        text-align: right;\n",
       "    }\n",
       "</style>\n",
       "<table border=\"1\" class=\"dataframe\">\n",
       "  <thead>\n",
       "    <tr style=\"text-align: right;\">\n",
       "      <th></th>\n",
       "      <th>Solver Status</th>\n",
       "      <th>Model Status</th>\n",
       "      <th>Objective</th>\n",
       "      <th>#equ</th>\n",
       "      <th>#var</th>\n",
       "      <th>Model Type</th>\n",
       "      <th>Solver</th>\n",
       "      <th>Solver Time</th>\n",
       "    </tr>\n",
       "  </thead>\n",
       "  <tbody>\n",
       "    <tr>\n",
       "      <th>0</th>\n",
       "      <td>Normal (1)</td>\n",
       "      <td>Optimal Global (1)</td>\n",
       "      <td>0.8058</td>\n",
       "      <td>2078</td>\n",
       "      <td>3813</td>\n",
       "      <td>MIP</td>\n",
       "      <td>CPLEX</td>\n",
       "      <td>1.958</td>\n",
       "    </tr>\n",
       "  </tbody>\n",
       "</table>\n",
       "</div>"
      ],
      "text/plain": [
       "  Solver Status        Model Status  Objective  #equ  #var Model Type Solver  \\\n",
       "0    Normal (1)  Optimal Global (1)     0.8058  2078  3813        MIP  CPLEX   \n",
       "\n",
       "  Solver Time  \n",
       "0       1.958  "
      ]
     },
     "execution_count": 56,
     "metadata": {},
     "output_type": "execute_result"
    }
   ],
   "source": [
    "%%gams\n",
    "*reset lambda\n",
    "lambda=0.8;\n",
    "* one abnormal resident who 100% only wants a one-bed apartment\n",
    "parameter rank1old(labels);\n",
    "rank1old(labels) = rank('1', labels);\n",
    "rank('1', labels) = 0;\n",
    "rank('1', 'nbed') = 1;\n",
    "solve tra_model using mip minimizing cdis;\n",
    "rank('1', labels) = rank1old(labels);\n",
    "parameter bl(r,a);\n",
    "bl(r,a) = b.l(r,a);"
   ]
  },
  {
   "cell_type": "code",
   "execution_count": 57,
   "metadata": {},
   "outputs": [
    {
     "data": {
      "text/plain": [
       "'a22'"
      ]
     },
     "execution_count": 57,
     "metadata": {},
     "output_type": "execute_result"
    }
   ],
   "source": [
    "%gams_pull -d bl\n",
    "bl.iloc[0]['a']\n",
    "# which apartment number did the resident get?"
   ]
  },
  {
   "cell_type": "code",
   "execution_count": 58,
   "metadata": {},
   "outputs": [
    {
     "data": {
      "text/plain": [
       "nbath                                                           2\n",
       "propertyType                                                CONDO\n",
       "lotAreaValue                                                 -1.0\n",
       "address                 351 W Wilson St UNIT 4, Madison, WI 53703\n",
       "imgSrc          https://photos.zillowstatic.com/fp/14a473c283b...\n",
       "budget                                                     3300.0\n",
       "longitude                                              -89.385315\n",
       "latitude                                                43.069065\n",
       "nbed                                                            1\n",
       "livingArea                                                    894\n",
       "hasImage                                                     True\n",
       "car                                                             5\n",
       "walk                                                           24\n",
       "bike                                                            8\n",
       "geometry                     POINT (-89.38531500000001 43.069065)\n",
       "a                                                              28\n",
       "Name: 28, dtype: object"
      ]
     },
     "execution_count": 58,
     "metadata": {},
     "output_type": "execute_result"
    }
   ],
   "source": [
    "apartments.loc[28] #because GAMS uses indexing starting from 1 and python starting from 0"
   ]
  },
  {
   "cell_type": "markdown",
   "metadata": {},
   "source": [
    "#### Apartment 28 is indeed a 1-bedroom!\n",
    "\n",
    "#### 2. Suppose everyone has the exact same apartment preferences. Make everyone have the same preferences as the first resident originally did, which are as follows:"
   ]
  },
  {
   "cell_type": "code",
   "execution_count": 59,
   "metadata": {},
   "outputs": [
    {
     "data": {
      "text/html": [
       "<div>\n",
       "<style scoped>\n",
       "    .dataframe tbody tr th:only-of-type {\n",
       "        vertical-align: middle;\n",
       "    }\n",
       "\n",
       "    .dataframe tbody tr th {\n",
       "        vertical-align: top;\n",
       "    }\n",
       "\n",
       "    .dataframe thead th {\n",
       "        text-align: right;\n",
       "    }\n",
       "</style>\n",
       "<table border=\"1\" class=\"dataframe\">\n",
       "  <thead>\n",
       "    <tr style=\"text-align: right;\">\n",
       "      <th></th>\n",
       "      <th>r</th>\n",
       "      <th>labels</th>\n",
       "      <th>value</th>\n",
       "    </tr>\n",
       "  </thead>\n",
       "  <tbody>\n",
       "    <tr>\n",
       "      <th>0</th>\n",
       "      <td>1</td>\n",
       "      <td>nbed</td>\n",
       "      <td>3.0</td>\n",
       "    </tr>\n",
       "    <tr>\n",
       "      <th>1</th>\n",
       "      <td>1</td>\n",
       "      <td>nbath</td>\n",
       "      <td>2.0</td>\n",
       "    </tr>\n",
       "    <tr>\n",
       "      <th>2</th>\n",
       "      <td>1</td>\n",
       "      <td>budget</td>\n",
       "      <td>1463.436074</td>\n",
       "    </tr>\n",
       "    <tr>\n",
       "      <th>3</th>\n",
       "      <td>1</td>\n",
       "      <td>com_m</td>\n",
       "      <td>3.0</td>\n",
       "    </tr>\n",
       "    <tr>\n",
       "      <th>4</th>\n",
       "      <td>1</td>\n",
       "      <td>com_t</td>\n",
       "      <td>2.0</td>\n",
       "    </tr>\n",
       "  </tbody>\n",
       "</table>\n",
       "</div>"
      ],
      "text/plain": [
       "   r  labels        value\n",
       "0  1    nbed          3.0\n",
       "1  1   nbath          2.0\n",
       "2  1  budget  1463.436074\n",
       "3  1   com_m          3.0\n",
       "4  1   com_t          2.0"
      ]
     },
     "execution_count": 59,
     "metadata": {},
     "output_type": "execute_result"
    }
   ],
   "source": [
    "res[res['r']=='1'] # what they want"
   ]
  },
  {
   "cell_type": "code",
   "execution_count": 60,
   "metadata": {},
   "outputs": [
    {
     "data": {
      "text/html": [
       "<div>\n",
       "<style scoped>\n",
       "    .dataframe tbody tr th:only-of-type {\n",
       "        vertical-align: middle;\n",
       "    }\n",
       "\n",
       "    .dataframe tbody tr th {\n",
       "        vertical-align: top;\n",
       "    }\n",
       "\n",
       "    .dataframe thead th {\n",
       "        text-align: right;\n",
       "    }\n",
       "</style>\n",
       "<table border=\"1\" class=\"dataframe\">\n",
       "  <thead>\n",
       "    <tr style=\"text-align: right;\">\n",
       "      <th></th>\n",
       "      <th>r</th>\n",
       "      <th>labels</th>\n",
       "      <th>value</th>\n",
       "    </tr>\n",
       "  </thead>\n",
       "  <tbody>\n",
       "    <tr>\n",
       "      <th>0</th>\n",
       "      <td>1</td>\n",
       "      <td>nbed</td>\n",
       "      <td>0.092014</td>\n",
       "    </tr>\n",
       "    <tr>\n",
       "      <th>1</th>\n",
       "      <td>1</td>\n",
       "      <td>nbath</td>\n",
       "      <td>0.451784</td>\n",
       "    </tr>\n",
       "    <tr>\n",
       "      <th>2</th>\n",
       "      <td>1</td>\n",
       "      <td>budget</td>\n",
       "      <td>0.294866</td>\n",
       "    </tr>\n",
       "    <tr>\n",
       "      <th>3</th>\n",
       "      <td>1</td>\n",
       "      <td>com_t</td>\n",
       "      <td>0.161336</td>\n",
       "    </tr>\n",
       "  </tbody>\n",
       "</table>\n",
       "</div>"
      ],
      "text/plain": [
       "   r  labels     value\n",
       "0  1    nbed  0.092014\n",
       "1  1   nbath  0.451784\n",
       "2  1  budget  0.294866\n",
       "3  1   com_t  0.161336"
      ]
     },
     "execution_count": 60,
     "metadata": {},
     "output_type": "execute_result"
    }
   ],
   "source": [
    "rank[rank['r']=='1'] #how badly they want each of these things"
   ]
  },
  {
   "cell_type": "code",
   "execution_count": 61,
   "metadata": {},
   "outputs": [
    {
     "data": {
      "text/html": [
       "<div>\n",
       "<style scoped>\n",
       "    .dataframe tbody tr th:only-of-type {\n",
       "        vertical-align: middle;\n",
       "    }\n",
       "\n",
       "    .dataframe tbody tr th {\n",
       "        vertical-align: top;\n",
       "    }\n",
       "\n",
       "    .dataframe thead th {\n",
       "        text-align: right;\n",
       "    }\n",
       "</style>\n",
       "<table border=\"1\" class=\"dataframe\">\n",
       "  <thead>\n",
       "    <tr style=\"text-align: right;\">\n",
       "      <th></th>\n",
       "      <th>Solver Status</th>\n",
       "      <th>Model Status</th>\n",
       "      <th>Objective</th>\n",
       "      <th>#equ</th>\n",
       "      <th>#var</th>\n",
       "      <th>Model Type</th>\n",
       "      <th>Solver</th>\n",
       "      <th>Solver Time</th>\n",
       "    </tr>\n",
       "  </thead>\n",
       "  <tbody>\n",
       "    <tr>\n",
       "      <th>0</th>\n",
       "      <td>Normal (1)</td>\n",
       "      <td>Optimal Global (1)</td>\n",
       "      <td>0.8717</td>\n",
       "      <td>2078</td>\n",
       "      <td>3813</td>\n",
       "      <td>MIP</td>\n",
       "      <td>CPLEX</td>\n",
       "      <td>0.186</td>\n",
       "    </tr>\n",
       "  </tbody>\n",
       "</table>\n",
       "</div>"
      ],
      "text/plain": [
       "  Solver Status        Model Status  Objective  #equ  #var Model Type Solver  \\\n",
       "0    Normal (1)  Optimal Global (1)     0.8717  2078  3813        MIP  CPLEX   \n",
       "\n",
       "  Solver Time  \n",
       "0       0.186  "
      ]
     },
     "execution_count": 61,
     "metadata": {},
     "output_type": "execute_result"
    }
   ],
   "source": [
    "%%gams\n",
    "parameter rankold(r, labels);\n",
    "parameter resold(r, labels);\n",
    "rankold(r, labels) = rank(r, labels);\n",
    "resold(r, labels) = res(r, labels);\n",
    "rank(r, labels) = rank('1', labels);\n",
    "res(r, labels) = res('1', labels);\n",
    "solve tra_model using mip minimizing cdis;"
   ]
  },
  {
   "cell_type": "markdown",
   "metadata": {},
   "source": [
    "#### This is a fairly large dissatisfaction amount (0.7191), which makes sense because it's hard to please everybody when they all want the same thing even if that thing is relatively reasonable. \n",
    "\n",
    "#### 3. Suppose everybody refers the same thing that's relatively strange."
   ]
  },
  {
   "cell_type": "code",
   "execution_count": 62,
   "metadata": {},
   "outputs": [
    {
     "data": {
      "text/html": [
       "<div>\n",
       "<style scoped>\n",
       "    .dataframe tbody tr th:only-of-type {\n",
       "        vertical-align: middle;\n",
       "    }\n",
       "\n",
       "    .dataframe tbody tr th {\n",
       "        vertical-align: top;\n",
       "    }\n",
       "\n",
       "    .dataframe thead th {\n",
       "        text-align: right;\n",
       "    }\n",
       "</style>\n",
       "<table border=\"1\" class=\"dataframe\">\n",
       "  <thead>\n",
       "    <tr style=\"text-align: right;\">\n",
       "      <th></th>\n",
       "      <th>Solver Status</th>\n",
       "      <th>Model Status</th>\n",
       "      <th>Objective</th>\n",
       "      <th>#equ</th>\n",
       "      <th>#var</th>\n",
       "      <th>Model Type</th>\n",
       "      <th>Solver</th>\n",
       "      <th>Solver Time</th>\n",
       "    </tr>\n",
       "  </thead>\n",
       "  <tbody>\n",
       "    <tr>\n",
       "      <th>0</th>\n",
       "      <td>Normal (1)</td>\n",
       "      <td>Optimal Global (1)</td>\n",
       "      <td>2.9957</td>\n",
       "      <td>2078</td>\n",
       "      <td>3813</td>\n",
       "      <td>MIP</td>\n",
       "      <td>CPLEX</td>\n",
       "      <td>9.395</td>\n",
       "    </tr>\n",
       "  </tbody>\n",
       "</table>\n",
       "</div>"
      ],
      "text/plain": [
       "  Solver Status        Model Status  Objective  #equ  #var Model Type Solver  \\\n",
       "0    Normal (1)  Optimal Global (1)     2.9957  2078  3813        MIP  CPLEX   \n",
       "\n",
       "  Solver Time  \n",
       "0       9.395  "
      ]
     },
     "execution_count": 62,
     "metadata": {},
     "output_type": "execute_result"
    }
   ],
   "source": [
    "%%gams\n",
    "rank(r, labels) = 0;\n",
    "rank(r, 'budget') = 0.5;\n",
    "rank(r, 'nbed') = 0.5;\n",
    "# * be sure to normalize budget again\n",
    "res(r, 'budget') = 100;\n",
    "res(r, 'budget') = 2* res(r, 'budget')  / budget_mean;\n",
    "res(r, 'nbed') = 5;\n",
    "\n",
    "abs_diff(r,a,'nbed') = abs(apt_data(a, 'nbed')-res(r, 'nbed'));\n",
    "abs_diff(r,a,'budget') = abs(apt_data(a, 'budget')-res(r, 'budget'));\n",
    "solve tra_model using mip minimizing cdis;"
   ]
  },
  {
   "cell_type": "markdown",
   "metadata": {},
   "source": [
    "#### The model takes a long time to solve and gets the giant objective value of 2.996. It is resonable that nobody is all that happy in this extreme scenario.\n",
    "\n",
    "#### 4. Use the large dataset of 100 residents to see what happens when only some people are able to recieve an apartment."
   ]
  },
  {
   "cell_type": "code",
   "execution_count": 63,
   "metadata": {},
   "outputs": [
    {
     "data": {
      "text/html": [
       "<div>\n",
       "<style scoped>\n",
       "    .dataframe tbody tr th:only-of-type {\n",
       "        vertical-align: middle;\n",
       "    }\n",
       "\n",
       "    .dataframe tbody tr th {\n",
       "        vertical-align: top;\n",
       "    }\n",
       "\n",
       "    .dataframe thead th {\n",
       "        text-align: right;\n",
       "    }\n",
       "</style>\n",
       "<table border=\"1\" class=\"dataframe\">\n",
       "  <thead>\n",
       "    <tr style=\"text-align: right;\">\n",
       "      <th></th>\n",
       "      <th>Solver Status</th>\n",
       "      <th>Model Status</th>\n",
       "      <th>Objective</th>\n",
       "      <th>#equ</th>\n",
       "      <th>#var</th>\n",
       "      <th>Model Type</th>\n",
       "      <th>Solver</th>\n",
       "      <th>Solver Time</th>\n",
       "    </tr>\n",
       "  </thead>\n",
       "  <tbody>\n",
       "    <tr>\n",
       "      <th>0</th>\n",
       "      <td>Normal (1)</td>\n",
       "      <td>Optimal Global (1)</td>\n",
       "      <td>0.7644</td>\n",
       "      <td>20768</td>\n",
       "      <td>26703</td>\n",
       "      <td>MIP</td>\n",
       "      <td>CPLEX</td>\n",
       "      <td>18.777</td>\n",
       "    </tr>\n",
       "  </tbody>\n",
       "</table>\n",
       "</div>"
      ],
      "text/plain": [
       "  Solver Status        Model Status  Objective   #equ   #var Model Type  \\\n",
       "0    Normal (1)  Optimal Global (1)     0.7644  20768  26703        MIP   \n",
       "\n",
       "  Solver Solver Time  \n",
       "0  CPLEX      18.777  "
      ]
     },
     "execution_count": 63,
     "metadata": {},
     "output_type": "execute_result"
    }
   ],
   "source": [
    "%%gams\n",
    "cr(r) = yes;\n",
    "res(r, labels) = big(r, labels);\n",
    "scalar old_num;\n",
    "old_num = num_res;\n",
    "num_res=100;\n",
    "pairs = min(card(cr), card(a));\n",
    "alias(cr2, cr);\n",
    "################################\n",
    "# reset rank\n",
    "rank(r,labels)=rankold(r,labels);\n",
    "#################################\n",
    "res(r, 'budget') = 2* res(r, 'budget')  / budget_mean;\n",
    "abs_diff(r,a,'nbed') = abs(apt_data(a, 'nbed')-res(r, 'nbed'));\n",
    "abs_diff(r,a,'nbath') = abs(apt_data(a, 'nbath')-res(r, 'nbath'));\n",
    "abs_diff(r,a,'budget') = abs(apt_data(a, 'budget')-res(r, 'budget'));\n",
    "abs_diff_cmt(r,a) = abs(sum(m $ r_method(r,m), apt_com_t_nm(a,m)) -res(r,'com_t'));\n",
    "solve tra_model using mip minimizing cdis;\n",
    "bl(r,a) = b.l(r,a);\n",
    "parameter rdis_100(r);\n",
    "rdis_100(r) = rdis.l(r);"
   ]
  },
  {
   "cell_type": "code",
   "execution_count": 64,
   "metadata": {},
   "outputs": [
    {
     "name": "stdout",
     "output_type": "stream",
     "text": [
      "     r    a value\n",
      "0    1   a6   1.0\n",
      "1    2  a24   1.0\n",
      "2    4  a39   1.0\n",
      "3    5  a35   1.0\n",
      "4    6  a37   1.0\n",
      "5    7  a30   1.0\n",
      "6    8  a15   1.0\n",
      "7    9  a52   1.0\n",
      "8   10   a9   1.0\n",
      "9   11  a45   1.0\n",
      "10  12   a8   1.0\n",
      "11  13  a28   1.0\n",
      "12  14  a21   1.0\n",
      "13  15  a34   1.0\n",
      "14  16  a29   1.0\n",
      "15  17  a36   1.0\n",
      "16  18  a54   1.0\n",
      "17  19  a41   1.0\n",
      "18  22  a12   1.0\n",
      "19  23  a31   1.0\n",
      "20  24  a32   1.0\n",
      "21  25  a44   1.0\n",
      "22  27  a14   1.0\n",
      "23  28  a38   1.0\n",
      "24  29  a56   1.0\n",
      "25  30  a27   1.0\n",
      "26  32  a63   1.0\n",
      "27  33  a46   1.0\n",
      "28  35  a61   1.0\n",
      "29  37   a7   1.0\n",
      "30  38  a10   1.0\n",
      "31  41  a18   1.0\n",
      "32  42  a50   1.0\n",
      "33  45  a43   1.0\n",
      "34  46  a57   1.0\n",
      "35  47  a48   1.0\n",
      "36  48  a26   1.0\n",
      "37  49   a2   1.0\n",
      "38  50  a11   1.0\n",
      "39  51  a40   1.0\n",
      "40  53   a1   1.0\n",
      "41  60  a33   1.0\n",
      "42  61  a42   1.0\n",
      "43  62  a60   1.0\n",
      "44  63   a5   1.0\n",
      "45  64  a59   1.0\n",
      "46  65  a25   1.0\n",
      "47  66  a23   1.0\n",
      "48  67  a49   1.0\n",
      "49  68  a20   1.0\n",
      "50  69  a17   1.0\n",
      "51  71  a16   1.0\n",
      "52  73  a62   1.0\n",
      "53  75   a3   1.0\n",
      "54  76  a19   1.0\n",
      "55  83  a47   1.0\n",
      "56  86  a58   1.0\n",
      "57  90  a13   1.0\n",
      "58  92   a4   1.0\n",
      "59  93  a22   1.0\n",
      "60  94  a53   1.0\n",
      "61  95  a51   1.0\n",
      "62  98  a55   1.0\n",
      "     r     value\n",
      "0    1  1.110007\n",
      "1    2     0.301\n",
      "2    4  1.014917\n",
      "3    5  0.400117\n",
      "4    6  0.489975\n",
      "5    7  0.580665\n",
      "6    8  0.510517\n",
      "7    9  0.671802\n",
      "8   10  1.252922\n",
      "9   11  0.209299\n",
      "10  12  1.258116\n",
      "11  13  1.172228\n",
      "12  14  0.375479\n",
      "13  15  0.330365\n",
      "14  16  1.393364\n",
      "15  17  0.419449\n",
      "16  18  0.936317\n",
      "17  19  1.016423\n",
      "18  22  1.276819\n",
      "19  23  0.480358\n",
      "20  24  1.446739\n",
      "21  25  0.873364\n",
      "22  27  1.258733\n",
      "23  28  0.353476\n",
      "24  29  0.543921\n",
      "25  30  0.577797\n",
      "26  32  0.245482\n",
      "27  33  1.060689\n",
      "28  35   0.26902\n",
      "29  37  1.058235\n",
      "30  38  1.616606\n",
      "31  41  0.229149\n",
      "32  42  0.865938\n",
      "33  45  0.386422\n",
      "34  46  0.626379\n",
      "35  47  0.920923\n",
      "36  48  0.825692\n",
      "37  49  0.818409\n",
      "38  50  1.156768\n",
      "39  51  1.055023\n",
      "40  53  0.396773\n",
      "41  60  1.075107\n",
      "42  61  1.310327\n",
      "43  62  0.831195\n",
      "44  63    0.7027\n",
      "45  64  0.779792\n",
      "46  65  0.438263\n",
      "47  66  0.699069\n",
      "48  67  1.201309\n",
      "49  68  0.915852\n",
      "50  69  0.935867\n",
      "51  71  1.121029\n",
      "52  73   0.86279\n",
      "53  75  1.103984\n",
      "54  76  0.238476\n",
      "55  83  1.707491\n",
      "56  86  0.789406\n",
      "57  90  0.853267\n",
      "58  92  1.319849\n",
      "59  93  1.096532\n",
      "60  94  1.221081\n",
      "61  95  0.758233\n",
      "62  98  1.116021\n",
      "   value\n",
      "0  100.0\n"
     ]
    }
   ],
   "source": [
    "%gams_pull -d bl\n",
    "%gams_pull -d rdis_100\n",
    "%gams_pull -d num_res\n",
    "bl.shape\n",
    "\n",
    "print(bl)\n",
    "print(rdis_100)\n",
    "print(num_res)"
   ]
  },
  {
   "cell_type": "markdown",
   "metadata": {},
   "source": [
    "#### Variable b.l(r,a) shows the model deal with this situation by ignoring some of the residents and only 63 residents were able to get apartments. Since the dissatisfaction is about people that get assigned an apartment, the average dissatisfaction is close to the one of the small data set.\n",
    "\n",
    "Reset data."
   ]
  },
  {
   "cell_type": "code",
   "execution_count": 65,
   "metadata": {},
   "outputs": [],
   "source": [
    "%%gams\n",
    "num_res=old_num;\n",
    "cr(r) = no;\n",
    "cr(r)$(ord(r)<=num_res) = yes;\n",
    "res(r, labels) = resold(r, labels);"
   ]
  },
  {
   "cell_type": "code",
   "execution_count": 67,
   "metadata": {},
   "outputs": [],
   "source": [
    "%%gams\n",
    "################################\n",
    "# reset rank\n",
    "rank(r,labels)=rankold(r,labels);\n",
    "#################################\n",
    "# reset abs\n",
    "res(r, 'budget') = 2* res(r, 'budget')  / budget_mean;\n",
    "abs_diff(r,a,'nbed') = abs(apt_data(a, 'nbed')-res(r, 'nbed'));\n",
    "abs_diff(r,a,'nbath') = abs(apt_data(a, 'nbath')-res(r, 'nbath'));\n",
    "abs_diff(r,a,'budget') = abs(apt_data(a, 'budget')-res(r, 'budget'));\n",
    "abs_diff_cmt(r,a) = abs(sum(m $ r_method(r,m), apt_com_t_nm(a,m)) -res(r,'com_t'));"
   ]
  },
  {
   "cell_type": "markdown",
   "metadata": {},
   "source": [
    "# Stochastic tradeoff model\n",
    "stochastic model details:\n",
    "\n",
    "* match every resident registered in the past week to current apartments every Mon;\n",
    "* each resident is assigned a register time, from 1-7, where 1 -> 1 day ago, 2 -> 2 days ago, etc.;\n",
    "* for each register time, there is a pobability that the resident would quit before the matching process;\n",
    "* this probability is set manually;\n",
    "* if a resident quits, his/hers dissatisfication is set to 0; \n",
    "* the rest of the model remain unchanged;"
   ]
  },
  {
   "cell_type": "code",
   "execution_count": 68,
   "metadata": {},
   "outputs": [
    {
     "data": {
      "text/html": [
       "<div>\n",
       "<style scoped>\n",
       "    .dataframe tbody tr th:only-of-type {\n",
       "        vertical-align: middle;\n",
       "    }\n",
       "\n",
       "    .dataframe tbody tr th {\n",
       "        vertical-align: top;\n",
       "    }\n",
       "\n",
       "    .dataframe thead th {\n",
       "        text-align: right;\n",
       "    }\n",
       "</style>\n",
       "<table border=\"1\" class=\"dataframe\">\n",
       "  <thead>\n",
       "    <tr style=\"text-align: right;\">\n",
       "      <th></th>\n",
       "      <th>Solver Status</th>\n",
       "      <th>Model Status</th>\n",
       "      <th>Objective</th>\n",
       "      <th>#equ</th>\n",
       "      <th>#var</th>\n",
       "      <th>Model Type</th>\n",
       "      <th>Solver</th>\n",
       "      <th>Solver Time</th>\n",
       "    </tr>\n",
       "  </thead>\n",
       "  <tbody>\n",
       "    <tr>\n",
       "      <th>0</th>\n",
       "      <td>Normal (1)</td>\n",
       "      <td>IntegerInfeasible (10)</td>\n",
       "      <td>NA</td>\n",
       "      <td>2148</td>\n",
       "      <td>8293</td>\n",
       "      <td>MIP</td>\n",
       "      <td>CPLEX</td>\n",
       "      <td>0.024</td>\n",
       "    </tr>\n",
       "  </tbody>\n",
       "</table>\n",
       "</div>"
      ],
      "text/plain": [
       "  Solver Status            Model Status Objective  #equ  #var Model Type  \\\n",
       "0    Normal (1)  IntegerInfeasible (10)        NA  2148  8293        MIP   \n",
       "\n",
       "  Solver Solver Time  \n",
       "0  CPLEX       0.024  "
      ]
     },
     "execution_count": 68,
     "metadata": {},
     "output_type": "execute_result"
    }
   ],
   "source": [
    "%%gams\n",
    "set t week days /1*7/;\n",
    "\n",
    "parameter regtim(r) \"the registration time of each resident r\";\n",
    "\n",
    "regtim(r) = ceil(uniform(0,7));\n",
    "\n",
    "parameter quitprob(t) \"the probability of quitting on the t-th day after registration\"\n",
    "/1 0.05\n",
    " 2 0.05\n",
    " 3 0.7\n",
    " 4 0.9\n",
    " 5 0.12\n",
    " 6 0.15\n",
    " 7 0.18/;\n",
    "\n",
    "equation calcErdis(r,t) \"calculate the expected dissatisfication of resident r\";\n",
    "\n",
    "calcErdis(r,t) $ (ord(t)=regtim(r))..\n",
    "rdis(r) =e= (1-quitprob(t))*sum(a, b(r,a) * (rank(r, 'nbed')*abs_diff(r,a,'nbed') + rank(r, 'nbath')*abs_diff(r,a,'nbath') + rank(r, 'budget')*abs_diff(r,a,'budget')))\n",
    "        + (1-quitprob(t))*sum(a, b(r,a) * rank(r,'com_t')*abs_diff_cmt(r,a));\n",
    "* second line is Expected dissatisfaction with commute, first line is expected dissatisfaction with everything else\n",
    "\n",
    "model stotra_model /traobj, calcavgdis, calcmaxdis, calcErdis, findbetter, findworse, calcIsntmax,\n",
    "                calcIsmax, mostdissed, disaon_lolim1, disaon_lolim2, disaon_hilim, bound_1, \n",
    "                bound_2, bound_3/;\n",
    "\n",
    "solve stotra_model using mip min cdis;\n",
    "bl(r,a) = b.l(r,a);"
   ]
  },
  {
   "cell_type": "code",
   "execution_count": 69,
   "metadata": {},
   "outputs": [
    {
     "data": {
      "text/html": [
       "<div>\n",
       "<style scoped>\n",
       "    .dataframe tbody tr th:only-of-type {\n",
       "        vertical-align: middle;\n",
       "    }\n",
       "\n",
       "    .dataframe tbody tr th {\n",
       "        vertical-align: top;\n",
       "    }\n",
       "\n",
       "    .dataframe thead th {\n",
       "        text-align: right;\n",
       "    }\n",
       "</style>\n",
       "<table border=\"1\" class=\"dataframe\">\n",
       "  <thead>\n",
       "    <tr style=\"text-align: right;\">\n",
       "      <th></th>\n",
       "      <th>Solver Status</th>\n",
       "      <th>Model Status</th>\n",
       "      <th>Objective</th>\n",
       "      <th>#equ</th>\n",
       "      <th>#var</th>\n",
       "      <th>Model Type</th>\n",
       "      <th>Solver</th>\n",
       "      <th>Solver Time</th>\n",
       "    </tr>\n",
       "  </thead>\n",
       "  <tbody>\n",
       "    <tr>\n",
       "      <th>0</th>\n",
       "      <td>Normal (1)</td>\n",
       "      <td>IntegerInfeasible (10)</td>\n",
       "      <td>NA</td>\n",
       "      <td>2148</td>\n",
       "      <td>8293</td>\n",
       "      <td>MIP</td>\n",
       "      <td>CPLEX</td>\n",
       "      <td>0.03</td>\n",
       "    </tr>\n",
       "  </tbody>\n",
       "</table>\n",
       "</div>"
      ],
      "text/plain": [
       "  Solver Status            Model Status Objective  #equ  #var Model Type  \\\n",
       "0    Normal (1)  IntegerInfeasible (10)        NA  2148  8293        MIP   \n",
       "\n",
       "  Solver Solver Time  \n",
       "0  CPLEX        0.03  "
      ]
     },
     "execution_count": 69,
     "metadata": {},
     "output_type": "execute_result"
    }
   ],
   "source": [
    "%%gams\n",
    "lambda=1;\n",
    "solve stotra_model using mip min cdis;"
   ]
  },
  {
   "cell_type": "code",
   "execution_count": 70,
   "metadata": {},
   "outputs": [
    {
     "data": {
      "text/html": [
       "<div>\n",
       "<style scoped>\n",
       "    .dataframe tbody tr th:only-of-type {\n",
       "        vertical-align: middle;\n",
       "    }\n",
       "\n",
       "    .dataframe tbody tr th {\n",
       "        vertical-align: top;\n",
       "    }\n",
       "\n",
       "    .dataframe thead th {\n",
       "        text-align: right;\n",
       "    }\n",
       "</style>\n",
       "<table border=\"1\" class=\"dataframe\">\n",
       "  <thead>\n",
       "    <tr style=\"text-align: right;\">\n",
       "      <th></th>\n",
       "      <th>Solver Status</th>\n",
       "      <th>Model Status</th>\n",
       "      <th>Objective</th>\n",
       "      <th>#equ</th>\n",
       "      <th>#var</th>\n",
       "      <th>Model Type</th>\n",
       "      <th>Solver</th>\n",
       "      <th>Solver Time</th>\n",
       "    </tr>\n",
       "  </thead>\n",
       "  <tbody>\n",
       "    <tr>\n",
       "      <th>0</th>\n",
       "      <td>Normal (1)</td>\n",
       "      <td>IntegerInfeasible (10)</td>\n",
       "      <td>NA</td>\n",
       "      <td>2148</td>\n",
       "      <td>8293</td>\n",
       "      <td>MIP</td>\n",
       "      <td>CPLEX</td>\n",
       "      <td>0.025</td>\n",
       "    </tr>\n",
       "  </tbody>\n",
       "</table>\n",
       "</div>"
      ],
      "text/plain": [
       "  Solver Status            Model Status Objective  #equ  #var Model Type  \\\n",
       "0    Normal (1)  IntegerInfeasible (10)        NA  2148  8293        MIP   \n",
       "\n",
       "  Solver Solver Time  \n",
       "0  CPLEX       0.025  "
      ]
     },
     "execution_count": 70,
     "metadata": {},
     "output_type": "execute_result"
    }
   ],
   "source": [
    "%%gams\n",
    "lambda=.7;\n",
    "solve stotra_model using mip min cdis;"
   ]
  },
  {
   "cell_type": "code",
   "execution_count": 71,
   "metadata": {},
   "outputs": [
    {
     "data": {
      "text/html": [
       "<div>\n",
       "<style scoped>\n",
       "    .dataframe tbody tr th:only-of-type {\n",
       "        vertical-align: middle;\n",
       "    }\n",
       "\n",
       "    .dataframe tbody tr th {\n",
       "        vertical-align: top;\n",
       "    }\n",
       "\n",
       "    .dataframe thead th {\n",
       "        text-align: right;\n",
       "    }\n",
       "</style>\n",
       "<table border=\"1\" class=\"dataframe\">\n",
       "  <thead>\n",
       "    <tr style=\"text-align: right;\">\n",
       "      <th></th>\n",
       "      <th>Solver Status</th>\n",
       "      <th>Model Status</th>\n",
       "      <th>Objective</th>\n",
       "      <th>#equ</th>\n",
       "      <th>#var</th>\n",
       "      <th>Model Type</th>\n",
       "      <th>Solver</th>\n",
       "      <th>Solver Time</th>\n",
       "    </tr>\n",
       "  </thead>\n",
       "  <tbody>\n",
       "    <tr>\n",
       "      <th>0</th>\n",
       "      <td>Normal (1)</td>\n",
       "      <td>IntegerInfeasible (10)</td>\n",
       "      <td>NA</td>\n",
       "      <td>2148</td>\n",
       "      <td>8293</td>\n",
       "      <td>MIP</td>\n",
       "      <td>CPLEX</td>\n",
       "      <td>0.029</td>\n",
       "    </tr>\n",
       "  </tbody>\n",
       "</table>\n",
       "</div>"
      ],
      "text/plain": [
       "  Solver Status            Model Status Objective  #equ  #var Model Type  \\\n",
       "0    Normal (1)  IntegerInfeasible (10)        NA  2148  8293        MIP   \n",
       "\n",
       "  Solver Solver Time  \n",
       "0  CPLEX       0.029  "
      ]
     },
     "execution_count": 71,
     "metadata": {},
     "output_type": "execute_result"
    }
   ],
   "source": [
    "%%gams\n",
    "lambda=.3;\n",
    "solve stotra_model using mip min cdis;"
   ]
  },
  {
   "cell_type": "code",
   "execution_count": 72,
   "metadata": {},
   "outputs": [
    {
     "data": {
      "text/html": [
       "<div>\n",
       "<style scoped>\n",
       "    .dataframe tbody tr th:only-of-type {\n",
       "        vertical-align: middle;\n",
       "    }\n",
       "\n",
       "    .dataframe tbody tr th {\n",
       "        vertical-align: top;\n",
       "    }\n",
       "\n",
       "    .dataframe thead th {\n",
       "        text-align: right;\n",
       "    }\n",
       "</style>\n",
       "<table border=\"1\" class=\"dataframe\">\n",
       "  <thead>\n",
       "    <tr style=\"text-align: right;\">\n",
       "      <th></th>\n",
       "      <th>Solver Status</th>\n",
       "      <th>Model Status</th>\n",
       "      <th>Objective</th>\n",
       "      <th>#equ</th>\n",
       "      <th>#var</th>\n",
       "      <th>Model Type</th>\n",
       "      <th>Solver</th>\n",
       "      <th>Solver Time</th>\n",
       "    </tr>\n",
       "  </thead>\n",
       "  <tbody>\n",
       "    <tr>\n",
       "      <th>0</th>\n",
       "      <td>Normal (1)</td>\n",
       "      <td>IntegerInfeasible (10)</td>\n",
       "      <td>NA</td>\n",
       "      <td>2148</td>\n",
       "      <td>8293</td>\n",
       "      <td>MIP</td>\n",
       "      <td>CPLEX</td>\n",
       "      <td>0.021</td>\n",
       "    </tr>\n",
       "  </tbody>\n",
       "</table>\n",
       "</div>"
      ],
      "text/plain": [
       "  Solver Status            Model Status Objective  #equ  #var Model Type  \\\n",
       "0    Normal (1)  IntegerInfeasible (10)        NA  2148  8293        MIP   \n",
       "\n",
       "  Solver Solver Time  \n",
       "0  CPLEX       0.021  "
      ]
     },
     "execution_count": 72,
     "metadata": {},
     "output_type": "execute_result"
    }
   ],
   "source": [
    "%%gams\n",
    "lambda=0;\n",
    "solve stotra_model using mip min cdis;"
   ]
  },
  {
   "cell_type": "markdown",
   "metadata": {},
   "source": [
    "abnormal resident"
   ]
  },
  {
   "cell_type": "code",
   "execution_count": 73,
   "metadata": {},
   "outputs": [
    {
     "data": {
      "text/html": [
       "<div>\n",
       "<style scoped>\n",
       "    .dataframe tbody tr th:only-of-type {\n",
       "        vertical-align: middle;\n",
       "    }\n",
       "\n",
       "    .dataframe tbody tr th {\n",
       "        vertical-align: top;\n",
       "    }\n",
       "\n",
       "    .dataframe thead th {\n",
       "        text-align: right;\n",
       "    }\n",
       "</style>\n",
       "<table border=\"1\" class=\"dataframe\">\n",
       "  <thead>\n",
       "    <tr style=\"text-align: right;\">\n",
       "      <th></th>\n",
       "      <th>Solver Status</th>\n",
       "      <th>Model Status</th>\n",
       "      <th>Objective</th>\n",
       "      <th>#equ</th>\n",
       "      <th>#var</th>\n",
       "      <th>Model Type</th>\n",
       "      <th>Solver</th>\n",
       "      <th>Solver Time</th>\n",
       "    </tr>\n",
       "  </thead>\n",
       "  <tbody>\n",
       "    <tr>\n",
       "      <th>0</th>\n",
       "      <td>Normal (1)</td>\n",
       "      <td>IntegerInfeasible (10)</td>\n",
       "      <td>NA</td>\n",
       "      <td>2148</td>\n",
       "      <td>8293</td>\n",
       "      <td>MIP</td>\n",
       "      <td>CPLEX</td>\n",
       "      <td>0.022</td>\n",
       "    </tr>\n",
       "  </tbody>\n",
       "</table>\n",
       "</div>"
      ],
      "text/plain": [
       "  Solver Status            Model Status Objective  #equ  #var Model Type  \\\n",
       "0    Normal (1)  IntegerInfeasible (10)        NA  2148  8293        MIP   \n",
       "\n",
       "  Solver Solver Time  \n",
       "0  CPLEX       0.022  "
      ]
     },
     "execution_count": 73,
     "metadata": {},
     "output_type": "execute_result"
    }
   ],
   "source": [
    "%%gams\n",
    "*reset lambda\n",
    "lambda=0.5;\n",
    "* one abnormal resident who 100% only wants a one-bed apartment\n",
    "parameter rank1old(labels);\n",
    "rank1old(labels) = rank('1', labels);\n",
    "rank('1', labels) = 0;\n",
    "rank('1', 'nbed') = 1;\n",
    "solve stotra_model using mip minimizing cdis;\n",
    "rank('1', labels) = rank1old(labels);\n",
    "parameter bl(r,a);\n",
    "bl(r,a) = b.l(r,a);"
   ]
  },
  {
   "cell_type": "markdown",
   "metadata": {},
   "source": [
    "everyone has the same request and ranking"
   ]
  },
  {
   "cell_type": "code",
   "execution_count": 74,
   "metadata": {},
   "outputs": [
    {
     "data": {
      "text/html": [
       "<div>\n",
       "<style scoped>\n",
       "    .dataframe tbody tr th:only-of-type {\n",
       "        vertical-align: middle;\n",
       "    }\n",
       "\n",
       "    .dataframe tbody tr th {\n",
       "        vertical-align: top;\n",
       "    }\n",
       "\n",
       "    .dataframe thead th {\n",
       "        text-align: right;\n",
       "    }\n",
       "</style>\n",
       "<table border=\"1\" class=\"dataframe\">\n",
       "  <thead>\n",
       "    <tr style=\"text-align: right;\">\n",
       "      <th></th>\n",
       "      <th>r</th>\n",
       "      <th>labels</th>\n",
       "      <th>value</th>\n",
       "    </tr>\n",
       "  </thead>\n",
       "  <tbody>\n",
       "    <tr>\n",
       "      <th>0</th>\n",
       "      <td>1</td>\n",
       "      <td>nbed</td>\n",
       "      <td>0.092014</td>\n",
       "    </tr>\n",
       "    <tr>\n",
       "      <th>1</th>\n",
       "      <td>1</td>\n",
       "      <td>nbath</td>\n",
       "      <td>0.451784</td>\n",
       "    </tr>\n",
       "    <tr>\n",
       "      <th>2</th>\n",
       "      <td>1</td>\n",
       "      <td>budget</td>\n",
       "      <td>0.294866</td>\n",
       "    </tr>\n",
       "    <tr>\n",
       "      <th>3</th>\n",
       "      <td>1</td>\n",
       "      <td>com_t</td>\n",
       "      <td>0.161336</td>\n",
       "    </tr>\n",
       "  </tbody>\n",
       "</table>\n",
       "</div>"
      ],
      "text/plain": [
       "   r  labels     value\n",
       "0  1    nbed  0.092014\n",
       "1  1   nbath  0.451784\n",
       "2  1  budget  0.294866\n",
       "3  1   com_t  0.161336"
      ]
     },
     "execution_count": 74,
     "metadata": {},
     "output_type": "execute_result"
    }
   ],
   "source": [
    "res[res['r']=='1'] # what they want\n",
    "rank[rank['r']=='1'] #how badly they want each of these things"
   ]
  },
  {
   "cell_type": "code",
   "execution_count": 75,
   "metadata": {},
   "outputs": [
    {
     "data": {
      "text/html": [
       "<div>\n",
       "<style scoped>\n",
       "    .dataframe tbody tr th:only-of-type {\n",
       "        vertical-align: middle;\n",
       "    }\n",
       "\n",
       "    .dataframe tbody tr th {\n",
       "        vertical-align: top;\n",
       "    }\n",
       "\n",
       "    .dataframe thead th {\n",
       "        text-align: right;\n",
       "    }\n",
       "</style>\n",
       "<table border=\"1\" class=\"dataframe\">\n",
       "  <thead>\n",
       "    <tr style=\"text-align: right;\">\n",
       "      <th></th>\n",
       "      <th>Solver Status</th>\n",
       "      <th>Model Status</th>\n",
       "      <th>Objective</th>\n",
       "      <th>#equ</th>\n",
       "      <th>#var</th>\n",
       "      <th>Model Type</th>\n",
       "      <th>Solver</th>\n",
       "      <th>Solver Time</th>\n",
       "    </tr>\n",
       "  </thead>\n",
       "  <tbody>\n",
       "    <tr>\n",
       "      <th>0</th>\n",
       "      <td>Normal (1)</td>\n",
       "      <td>IntegerInfeasible (10)</td>\n",
       "      <td>NA</td>\n",
       "      <td>2148</td>\n",
       "      <td>8293</td>\n",
       "      <td>MIP</td>\n",
       "      <td>CPLEX</td>\n",
       "      <td>0.03</td>\n",
       "    </tr>\n",
       "  </tbody>\n",
       "</table>\n",
       "</div>"
      ],
      "text/plain": [
       "  Solver Status            Model Status Objective  #equ  #var Model Type  \\\n",
       "0    Normal (1)  IntegerInfeasible (10)        NA  2148  8293        MIP   \n",
       "\n",
       "  Solver Solver Time  \n",
       "0  CPLEX        0.03  "
      ]
     },
     "execution_count": 75,
     "metadata": {},
     "output_type": "execute_result"
    }
   ],
   "source": [
    "%%gams\n",
    "parameter rankold(r, labels);\n",
    "parameter resold(r, labels);\n",
    "rankold(r, labels) = rank(r, labels);\n",
    "resold(r, labels) = res(r, labels);\n",
    "rank(r, labels) = rank('1', labels);\n",
    "res(r, labels) = res('1', labels);\n",
    "solve stotra_model using mip minimizing cdis;"
   ]
  },
  {
   "cell_type": "markdown",
   "metadata": {},
   "source": [
    "everyone has the same wierd preference"
   ]
  },
  {
   "cell_type": "code",
   "execution_count": 76,
   "metadata": {},
   "outputs": [
    {
     "data": {
      "text/html": [
       "<div>\n",
       "<style scoped>\n",
       "    .dataframe tbody tr th:only-of-type {\n",
       "        vertical-align: middle;\n",
       "    }\n",
       "\n",
       "    .dataframe tbody tr th {\n",
       "        vertical-align: top;\n",
       "    }\n",
       "\n",
       "    .dataframe thead th {\n",
       "        text-align: right;\n",
       "    }\n",
       "</style>\n",
       "<table border=\"1\" class=\"dataframe\">\n",
       "  <thead>\n",
       "    <tr style=\"text-align: right;\">\n",
       "      <th></th>\n",
       "      <th>Solver Status</th>\n",
       "      <th>Model Status</th>\n",
       "      <th>Objective</th>\n",
       "      <th>#equ</th>\n",
       "      <th>#var</th>\n",
       "      <th>Model Type</th>\n",
       "      <th>Solver</th>\n",
       "      <th>Solver Time</th>\n",
       "    </tr>\n",
       "  </thead>\n",
       "  <tbody>\n",
       "    <tr>\n",
       "      <th>0</th>\n",
       "      <td>Normal (1)</td>\n",
       "      <td>IntegerInfeasible (10)</td>\n",
       "      <td>NA</td>\n",
       "      <td>2148</td>\n",
       "      <td>8293</td>\n",
       "      <td>MIP</td>\n",
       "      <td>CPLEX</td>\n",
       "      <td>0.029</td>\n",
       "    </tr>\n",
       "  </tbody>\n",
       "</table>\n",
       "</div>"
      ],
      "text/plain": [
       "  Solver Status            Model Status Objective  #equ  #var Model Type  \\\n",
       "0    Normal (1)  IntegerInfeasible (10)        NA  2148  8293        MIP   \n",
       "\n",
       "  Solver Solver Time  \n",
       "0  CPLEX       0.029  "
      ]
     },
     "execution_count": 76,
     "metadata": {},
     "output_type": "execute_result"
    }
   ],
   "source": [
    "%%gams\n",
    "rank(r, labels) = 0;\n",
    "rank(r, 'budget') = 0.5;\n",
    "rank(r, 'nbed') = 0.5;\n",
    "# * be sure to normalize budget again\n",
    "res(r, 'budget') = 100;\n",
    "res(r, 'budget') = 2* res(r, 'budget')  / budget_mean;\n",
    "res(r, 'nbed') = 5;\n",
    "\n",
    "abs_diff(r,a,'nbed') = abs(apt_data(a, 'nbed')-res(r, 'nbed'));\n",
    "abs_diff(r,a,'budget') = abs(apt_data(a, 'budget')-res(r, 'budget'));\n",
    "solve stotra_model using mip minimizing cdis;"
   ]
  },
  {
   "cell_type": "markdown",
   "metadata": {},
   "source": [
    "100 residents data set"
   ]
  },
  {
   "cell_type": "code",
   "execution_count": 77,
   "metadata": {},
   "outputs": [
    {
     "data": {
      "text/html": [
       "<div>\n",
       "<style scoped>\n",
       "    .dataframe tbody tr th:only-of-type {\n",
       "        vertical-align: middle;\n",
       "    }\n",
       "\n",
       "    .dataframe tbody tr th {\n",
       "        vertical-align: top;\n",
       "    }\n",
       "\n",
       "    .dataframe thead th {\n",
       "        text-align: right;\n",
       "    }\n",
       "</style>\n",
       "<table border=\"1\" class=\"dataframe\">\n",
       "  <thead>\n",
       "    <tr style=\"text-align: right;\">\n",
       "      <th></th>\n",
       "      <th>Solver Status</th>\n",
       "      <th>Model Status</th>\n",
       "      <th>Objective</th>\n",
       "      <th>#equ</th>\n",
       "      <th>#var</th>\n",
       "      <th>Model Type</th>\n",
       "      <th>Solver</th>\n",
       "      <th>Solver Time</th>\n",
       "    </tr>\n",
       "  </thead>\n",
       "  <tbody>\n",
       "    <tr>\n",
       "      <th>0</th>\n",
       "      <td>Normal (1)</td>\n",
       "      <td>Optimal Global (1)</td>\n",
       "      <td>10.2849</td>\n",
       "      <td>20768</td>\n",
       "      <td>26703</td>\n",
       "      <td>MIP</td>\n",
       "      <td>CPLEX</td>\n",
       "      <td>6.621</td>\n",
       "    </tr>\n",
       "  </tbody>\n",
       "</table>\n",
       "</div>"
      ],
      "text/plain": [
       "  Solver Status        Model Status  Objective   #equ   #var Model Type  \\\n",
       "0    Normal (1)  Optimal Global (1)    10.2849  20768  26703        MIP   \n",
       "\n",
       "  Solver Solver Time  \n",
       "0  CPLEX       6.621  "
      ]
     },
     "execution_count": 77,
     "metadata": {},
     "output_type": "execute_result"
    }
   ],
   "source": [
    "%%gams\n",
    "cr(r) = yes;\n",
    "res(r, labels) = big(r, labels);\n",
    "scalar old_num;\n",
    "old_num = num_res;\n",
    "num_res=100;\n",
    "pairs = min(card(cr), card(a));\n",
    "alias(cr2, cr);\n",
    "res(r, 'budget') = 2* res(r, 'budget')  / budget_mean;\n",
    "abs_diff(r,a,'nbed') = abs(apt_data(a, 'nbed')-res(r, 'nbed'));\n",
    "abs_diff(r,a,'nbath') = abs(apt_data(a, 'nbath')-res(r, 'nbath'));\n",
    "abs_diff(r,a,'budget') = abs(apt_data(a, 'budget')-res(r, 'budget'));\n",
    "abs_diff_cmt(r,a) = abs(sum(m $ r_method(r,m), apt_com_t_nm(a,m)) -res(r,'com_t'));\n",
    "solve tra_model using mip minimizing cdis;\n",
    "bl(r,a) = b.l(r,a);"
   ]
  },
  {
   "cell_type": "markdown",
   "metadata": {},
   "source": [
    "reset data"
   ]
  },
  {
   "cell_type": "code",
   "execution_count": 78,
   "metadata": {},
   "outputs": [],
   "source": [
    "%%gams\n",
    "num_res=old_num;\n",
    "cr(r) = no;\n",
    "cr(r)$(ord(r)<=num_res) = yes;\n",
    "res(r, labels) = resold(r, labels);"
   ]
  }
 ],
 "metadata": {
  "interpreter": {
   "hash": "8662b7373a0e0a16ab52526d124e2ff871b55bd7a519f6ccc5269dacd59ae431"
  },
  "kernelspec": {
   "display_name": "Python 3 (ipykernel)",
   "language": "python",
   "name": "python3"
  },
  "language_info": {
   "codemirror_mode": {
    "name": "ipython",
    "version": 3
   },
   "file_extension": ".py",
   "mimetype": "text/x-python",
   "name": "python",
   "nbconvert_exporter": "python",
   "pygments_lexer": "ipython3",
   "version": "3.9.7"
  }
 },
 "nbformat": 4,
 "nbformat_minor": 2
}
